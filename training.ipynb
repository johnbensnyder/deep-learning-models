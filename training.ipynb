{
 "cells": [
  {
   "cell_type": "code",
   "execution_count": 1,
   "metadata": {},
   "outputs": [],
   "source": [
    "import sys\n",
    "from collections import OrderedDict\n",
    "from tqdm.notebook import tqdm\n",
    "sys.path.append('/workspace/shared_workspace/deep-learning-models/models/vision/detection/')\n",
    "import tensorflow as tf\n",
    "import horovod.tensorflow as hvd\n",
    "hvd.init()"
   ]
  },
  {
   "cell_type": "code",
   "execution_count": 2,
   "metadata": {},
   "outputs": [],
   "source": [
    "from awsdet.datasets.coco import CocoDataset\n",
    "from awsdet.datasets.data_generator import DataGenerator\n",
    "from awsdet.datasets.loader.build_loader import build_dataloader\n",
    "\n",
    "from awsdet.models.backbones import keras_backbone\n",
    "from awsdet.models.necks import fpn\n",
    "from awsdet.models.anchor_heads.rpn_head import RPNHead\n",
    "from awsdet.core.bbox.bbox_target import ProposalTarget\n",
    "from awsdet.models.roi_extractors.roi_align import PyramidROIAlign\n",
    "from awsdet.models.bbox_heads.bbox_head import BBoxHead"
   ]
  },
  {
   "cell_type": "code",
   "execution_count": 3,
   "metadata": {},
   "outputs": [
    {
     "name": "stdout",
     "output_type": "stream",
     "text": [
      "loading annotations into memory...\n",
      "Done (t=13.03s)\n",
      "creating index...\n",
      "index created!\n"
     ]
    }
   ],
   "source": [
    "dataset_dir = '/workspace/shared_workspace/data/coco/coco/'\n",
    "subset = 'train'\n",
    "coco_dataset = CocoDataset(dataset_dir, subset, train=True)"
   ]
  },
  {
   "cell_type": "code",
   "execution_count": 4,
   "metadata": {},
   "outputs": [],
   "source": [
    "local_batch_size=2\n",
    "coco_tdf = build_dataloader(coco_dataset, local_batch_size)[0]"
   ]
  },
  {
   "cell_type": "code",
   "execution_count": 5,
   "metadata": {},
   "outputs": [],
   "source": [
    "backbone = keras_backbone.KerasBackbone('ResNet50V1')\n",
    "neck = fpn.FPN()\n",
    "rpn_head = RPNHead()\n",
    "bbox_target = ProposalTarget()\n",
    "bbox_roi_extractor = PyramidROIAlign(pool_shape=[7, 7], pool_type='avg')\n",
    "mask_roi_extractor = PyramidROIAlign(pool_shape=[14, 14], pool_type='avg')"
   ]
  },
  {
   "cell_type": "code",
   "execution_count": 6,
   "metadata": {},
   "outputs": [],
   "source": [
    "import tensorflow as tf\n",
    "from tensorflow.keras import layers\n",
    "\n",
    "class MaskHead(tf.keras.Model):\n",
    "    def __init__(self, num_classes):\n",
    "        super().__init__()\n",
    "        self.num_classes = num_classes\n",
    "        # Convolution block 1\n",
    "        self.conv_1 = layers.Conv2D(256, (3, 3), padding=\"same\", name=\"mask_conv_1\")\n",
    "        self.bn_1 = layers.BatchNormalization(name='mask_bn_1')\n",
    "        self.activation_1 = layers.ReLU()\n",
    "        # Convolution block 2\n",
    "        self.conv_2 = layers.Conv2D(256, (3, 3), padding=\"same\", name=\"mask_conv_2\")\n",
    "        self.bn_2 = layers.BatchNormalization(name='mask_bn_2')\n",
    "        self.activation_2 = layers.ReLU()\n",
    "        # Convolution block 3\n",
    "        self.conv_3 = layers.Conv2D(256, (3, 3), padding=\"same\", name=\"mask_conv_3\")\n",
    "        self.bn_3 = layers.BatchNormalization(name='mask_bn_3')\n",
    "        self.activation_3 = layers.ReLU()\n",
    "        # Convolution block 4\n",
    "        self.conv_4 = layers.Conv2D(256, (3, 3), padding=\"same\", name=\"mask_conv_4\")\n",
    "        self.bn_4 = layers.BatchNormalization(name='mask_bn_4')\n",
    "        self.activation_4 = layers.ReLU()\n",
    "        # Deconv to 28x28\n",
    "        self.deconv = layers.Conv2DTranspose(256, (2, 2), strides=2, activation=\"relu\",\n",
    "                                             name=\"mask_deconv\")\n",
    "        self.masks = layers.Conv2D(num_classes, (1, 1), strides=1, activation=\"sigmoid\", name=\"mask\")\n",
    "        \n",
    "    def call(self, inputs, training=True):\n",
    "        masks = []\n",
    "        pooled_rois_list = inputs\n",
    "        for pooled_rois in pooled_rois_list:\n",
    "            x = self.conv_1(pooled_rois)\n",
    "            x = self.bn_1(x)\n",
    "            x = self.activation_1(x)\n",
    "            x = self.conv_2(x)\n",
    "            x = self.bn_2(x)\n",
    "            x = self.activation_2(x)\n",
    "            x = self.conv_3(x)\n",
    "            x = self.bn_3(x)\n",
    "            x = self.activation_3(x)\n",
    "            x = self.conv_4(x)\n",
    "            x = self.bn_4(x)\n",
    "            x = self.activation_4(x)\n",
    "            x = self.deconv(x)\n",
    "            masks.append(self.masks(x))\n",
    "        return masks"
   ]
  },
  {
   "cell_type": "code",
   "execution_count": 7,
   "metadata": {},
   "outputs": [
    {
     "name": "stdout",
     "output_type": "stream",
     "text": [
      "Starting new loop for GPU: 0\n"
     ]
    }
   ],
   "source": [
    "img, img_metas, gt_boxes, gt_class_ids = next(iter(coco_tdf))"
   ]
  },
  {
   "cell_type": "code",
   "execution_count": 16,
   "metadata": {},
   "outputs": [],
   "source": [
    "training=True\n",
    "class Model(tf.keras.Model):\n",
    "    \n",
    "    def __init__(self):\n",
    "        super().__init__()\n",
    "        self.backbone = keras_backbone.KerasBackbone('ResNet50V1')\n",
    "        self.neck = fpn.FPN()\n",
    "        self.rpn_head = RPNHead()\n",
    "        self.bbox_target = ProposalTarget()\n",
    "        self.bbox_roi_extractor = PyramidROIAlign(pool_shape=[7, 7], pool_type='avg')\n",
    "        self.mask_roi_extractor = PyramidROIAlign(pool_shape=[14, 14], pool_type='avg')\n",
    "        self.bbox_head = BBoxHead(81, (7, 7))\n",
    "        self.mask_head = MaskHead(81)\n",
    "    \n",
    "    def call(self, img, img_metas, gt_boxes, gt_class_ids, training=True):\n",
    "        C2, C3, C4, C5 = self.backbone(img, training=training)\n",
    "        P2, P3, P4, P5, P6 = self.neck((C2, C3, C4, C5), training=training)\n",
    "        rpn_feature_maps = [P2, P3, P4, P5, P6]\n",
    "        rcnn_feature_maps = [P2, P3, P4, P5]\n",
    "        rpn_class_logits, rpn_probs, rpn_deltas = self.rpn_head(rpn_feature_maps, training=training)\n",
    "        proposals_list = self.rpn_head.get_proposals(\n",
    "                    rpn_probs, rpn_deltas, img_metas, training=training)\n",
    "        if training:\n",
    "            rois_list, gt_assignment, rcnn_target_matchs, \\\n",
    "            rcnn_target_deltas, inside_weights, outside_weights = \\\n",
    "                self.bbox_target.build_targets(proposals_list, gt_boxes, gt_class_ids, img_metas)\n",
    "        else:\n",
    "            rois_list = proposals_list\n",
    "        bbox_pooled_regions_list = self.bbox_roi_extractor(\n",
    "            (rois_list, rcnn_feature_maps, img_metas), training=training)\n",
    "        rcnn_class_logits, rcnn_probs, rcnn_deltas = \\\n",
    "            self.bbox_head(bbox_pooled_regions_list, training=training)\n",
    "        mask_pooled_regions_list = self.mask_roi_extractor(\n",
    "            (rois_list, rcnn_feature_maps, img_metas), training=training)\n",
    "        masks = self.mask_head(mask_pooled_regions_list)\n",
    "        rpn_inputs = (rpn_class_logits, rpn_deltas, gt_boxes, gt_class_ids, img_metas)\n",
    "        rpn_class_loss, rpn_bbox_loss = self.rpn_head.loss(rpn_inputs)\n",
    "        rcnn_inputs = (rcnn_class_logits, rcnn_deltas, rcnn_target_matchs,\n",
    "                rcnn_target_deltas, inside_weights, outside_weights)\n",
    "        rcnn_class_loss, rcnn_bbox_loss = self.bbox_head.loss(rcnn_inputs)\n",
    "        losses_dict = {\n",
    "                'rpn_class_loss': rpn_class_loss,\n",
    "                'rpn_bbox_loss': rpn_bbox_loss,\n",
    "                'rcnn_class_loss': rcnn_class_loss,\n",
    "                'rcnn_bbox_loss': rcnn_bbox_loss\n",
    "            }\n",
    "        return proposals_list, gt_boxes, gt_class_ids, img_metas"
   ]
  },
  {
   "cell_type": "code",
   "execution_count": 17,
   "metadata": {},
   "outputs": [
    {
     "name": "stdout",
     "output_type": "stream",
     "text": [
      "Starting new loop for GPU: 0\n"
     ]
    }
   ],
   "source": [
    "model = Model()\n",
    "train_tdf = iter(coco_tdf)\n",
    "proposals_list, gt_boxes, gt_class_ids, img_metas = model(*next(train_tdf))"
   ]
  },
  {
   "cell_type": "code",
   "execution_count": 18,
   "metadata": {},
   "outputs": [],
   "source": [
    "proposals_list, gt_boxes, gt_class_ids, img_metas = model(*next(train_tdf))"
   ]
  },
  {
   "cell_type": "code",
   "execution_count": 47,
   "metadata": {},
   "outputs": [],
   "source": [
    "import numpy as np\n",
    "from awsdet.models.utils.misc import calc_pad_shapes, trim_zeros\n",
    "from awsdet.core.bbox import geometry, transforms"
   ]
  },
  {
   "cell_type": "code",
   "execution_count": 53,
   "metadata": {},
   "outputs": [],
   "source": [
    "idx = 1\n",
    "proposals, _ = trim_zeros(proposals_list[idx])\n",
    "gt_box, non_zeros = trim_zeros(gt_boxes[idx])\n",
    "gt_box = tf.cast(gt_box, proposals.dtype)\n",
    "gt_labels = tf.boolean_mask(gt_class_ids[idx], non_zeros)\n",
    "noise_mean = 5.0\n",
    "noisy_gt_boxes = tf.add(gt_box, \n",
    "                    tf.random.truncated_normal(tf.shape(gt_box), \n",
    "                                               noise_mean, 0.1, dtype=proposals.dtype))\n",
    "proposals_gt = tf.concat([proposals, noisy_gt_boxes], axis=0)\n",
    "iou = geometry.compute_overlaps(proposals_gt, gt_box)\n",
    "max_overlaps = tf.reduce_max(iou, axis=1)\n",
    "gt_assignment = tf.argmax(iou, axis=1)"
   ]
  },
  {
   "cell_type": "code",
   "execution_count": 54,
   "metadata": {},
   "outputs": [
    {
     "data": {
      "text/plain": [
       "array([0, 1, 2, 3])"
      ]
     },
     "execution_count": 54,
     "metadata": {},
     "output_type": "execute_result"
    }
   ],
   "source": [
    "np.unique(gt_assignment.numpy())"
   ]
  },
  {
   "cell_type": "code",
   "execution_count": null,
   "metadata": {},
   "outputs": [],
   "source": []
  },
  {
   "cell_type": "code",
   "execution_count": null,
   "metadata": {},
   "outputs": [],
   "source": []
  },
  {
   "cell_type": "code",
   "execution_count": null,
   "metadata": {},
   "outputs": [],
   "source": []
  },
  {
   "cell_type": "code",
   "execution_count": null,
   "metadata": {},
   "outputs": [],
   "source": []
  },
  {
   "cell_type": "code",
   "execution_count": null,
   "metadata": {},
   "outputs": [],
   "source": []
  },
  {
   "cell_type": "code",
   "execution_count": null,
   "metadata": {},
   "outputs": [],
   "source": []
  },
  {
   "cell_type": "code",
   "execution_count": null,
   "metadata": {},
   "outputs": [],
   "source": [
    "training=True\n",
    "class Model(tf.keras.Model):\n",
    "    \n",
    "    def __init__(self):\n",
    "        super().__init__()\n",
    "        self.backbone = keras_backbone.KerasBackbone('ResNet50V1')\n",
    "        self.neck = fpn.FPN()\n",
    "        self.rpn_head = RPNHead()\n",
    "        self.bbox_target = ProposalTarget()\n",
    "        self.bbox_roi_extractor = PyramidROIAlign(pool_shape=[14, 14], pool_type='avg')\n",
    "        self.bbox_head = BBoxHead(81, (14, 14))\n",
    "    def call(self, img, img_metas, gt_boxes, gt_class_ids, training=True):\n",
    "        C2, C3, C4, C5 = self.backbone(img, training=training)\n",
    "        P2, P3, P4, P5, P6 = self.neck((C2, C3, C4, C5), training=training)\n",
    "        rpn_feature_maps = [P2, P3, P4, P5, P6]\n",
    "        rcnn_feature_maps = [P2, P3, P4, P5]\n",
    "        rpn_class_logits, rpn_probs, rpn_deltas = self.rpn_head(rpn_feature_maps, training=training)\n",
    "        proposals_list = self.rpn_head.get_proposals(\n",
    "                    rpn_probs, rpn_deltas, img_metas, training=training)\n",
    "        if training:\n",
    "            rois_list, rcnn_target_matchs, rcnn_target_deltas, inside_weights, outside_weights = \\\n",
    "                self.bbox_target.build_targets(proposals_list, gt_boxes, gt_class_ids, img_metas)\n",
    "        else:\n",
    "            rois_list = proposals_list\n",
    "        pooled_regions_list = self.bbox_roi_extractor(\n",
    "            (rois_list, rcnn_feature_maps, img_metas), training=training)\n",
    "        rcnn_class_logits, rcnn_probs, rcnn_deltas = \\\n",
    "            self.bbox_head(pooled_regions_list, training=training)\n",
    "        rpn_inputs = (rpn_class_logits, rpn_deltas, gt_boxes, gt_class_ids, img_metas)\n",
    "        rpn_class_loss, rpn_bbox_loss = self.rpn_head.loss(rpn_inputs)\n",
    "        rcnn_inputs = (rcnn_class_logits, rcnn_deltas, rcnn_target_matchs,\n",
    "                rcnn_target_deltas, inside_weights, outside_weights)\n",
    "        rcnn_class_loss, rcnn_bbox_loss = self.bbox_head.loss(rcnn_inputs)\n",
    "        losses_dict = {\n",
    "                'rpn_class_loss': rpn_class_loss,\n",
    "                'rpn_bbox_loss': rpn_bbox_loss,\n",
    "                'rcnn_class_loss': rcnn_class_loss,\n",
    "                'rcnn_bbox_loss': rcnn_bbox_loss\n",
    "            }\n",
    "        return losses_dict"
   ]
  },
  {
   "cell_type": "code",
   "execution_count": null,
   "metadata": {},
   "outputs": [],
   "source": [
    "def parse_losses(losses, local_batch_size):\n",
    "    log_vars = OrderedDict()\n",
    "    for loss_name, loss_value in losses.items():\n",
    "        if tf.is_tensor(loss_value):\n",
    "            log_vars[loss_name] = tf.reduce_mean(loss_value)\n",
    "        elif isinstance(loss_value, list):\n",
    "            log_vars[loss_name] = tf.add_n(\n",
    "                [tf.reduce_mean(_loss) for _loss in loss_value])\n",
    "        else:\n",
    "            raise TypeError(\n",
    "                '{} is not a tensor or list of tensors'.format(loss_name))\n",
    "    loss_list = []\n",
    "    for _key, _value in log_vars.items():\n",
    "        if 'loss' in _key:\n",
    "            if 'reg_loss' not in _key:\n",
    "                loss_list.append(_value/local_batch_size) # horovod averages (not sums) gradients by default over workers\n",
    "            else:\n",
    "                loss_list.append(_value)\n",
    "    total_loss = sum(loss_list) \n",
    "    log_vars['loss'] = total_loss\n",
    "    return total_loss, log_vars\n",
    "\n"
   ]
  },
  {
   "cell_type": "code",
   "execution_count": null,
   "metadata": {},
   "outputs": [],
   "source": [
    "model = Model()\n",
    "train_tdf = iter(coco_tdf)\n",
    "loss = model(*next(train_tdf))\n",
    "optimizer = tf.keras.optimizers.SGD(learning_rate=0.001, momentum=0.7, nesterov=False)"
   ]
  },
  {
   "cell_type": "code",
   "execution_count": null,
   "metadata": {},
   "outputs": [],
   "source": [
    "@tf.function(experimental_relax_shapes=True)\n",
    "def train_step(img, img_metas, gt_boxes, gt_class_ids):\n",
    "    with tf.GradientTape() as tape:\n",
    "        losses = model(img, img_metas, gt_boxes, gt_class_ids)\n",
    "        reg_losses = tf.add_n(model.losses)\n",
    "        losses['reg_loss'] = reg_losses\n",
    "        loss, log_vars = parse_losses(losses, local_batch_size)\n",
    "    gradients = tape.gradient(loss, model.trainable_variables)\n",
    "    optimizer.apply_gradients(zip(gradients, model.trainable_variables))\n",
    "    return loss"
   ]
  },
  {
   "cell_type": "code",
   "execution_count": null,
   "metadata": {},
   "outputs": [],
   "source": [
    "progressbar = tqdm(range(10000))\n",
    "\n",
    "for i in progressbar:\n",
    "    loss = train_step(*next(train_tdf))\n",
    "    progressbar.set_description(\"Loss: {0:.3f}\".format(loss))"
   ]
  },
  {
   "cell_type": "code",
   "execution_count": null,
   "metadata": {},
   "outputs": [],
   "source": []
  },
  {
   "cell_type": "code",
   "execution_count": null,
   "metadata": {},
   "outputs": [],
   "source": []
  }
 ],
 "metadata": {
  "kernelspec": {
   "display_name": "Python 3",
   "language": "python",
   "name": "python3"
  },
  "language_info": {
   "codemirror_mode": {
    "name": "ipython",
    "version": 3
   },
   "file_extension": ".py",
   "mimetype": "text/x-python",
   "name": "python",
   "nbconvert_exporter": "python",
   "pygments_lexer": "ipython3",
   "version": "3.6.9"
  }
 },
 "nbformat": 4,
 "nbformat_minor": 4
}
