{
 "cells": [
  {
   "cell_type": "code",
   "execution_count": 1,
   "metadata": {},
   "outputs": [],
   "source": [
    "import sys\n",
    "import os\n",
    "import time\n",
    "from tqdm.notebook import tqdm\n",
    "from time import sleep\n",
    "sys.path.append('..')"
   ]
  },
  {
   "cell_type": "code",
   "execution_count": 2,
   "metadata": {},
   "outputs": [],
   "source": [
    "import tensorflow as tf\n",
    "import tensorflow_addons as tfa\n",
    "from tensorflow.keras.mixed_precision import experimental as mixed_precision"
   ]
  },
  {
   "cell_type": "code",
   "execution_count": 3,
   "metadata": {},
   "outputs": [],
   "source": [
    "from awsdet.utils.misc.config import Config\n",
    "from awsdet.utils.logger import get_root_logger\n",
    "from awsdet.utils.runner.dist_utils import init_dist\n",
    "from awsdet.datasets.data_generator import DataGenerator\n",
    "from awsdet.datasets import build_dataset\n",
    "from awsdet.datasets.loader.build_loader import build_dataloader\n",
    "\n",
    "import matplotlib.pyplot as plt\n",
    "from awsdet.models.builder import build_backbone, build_neck, build_head\n",
    "\n",
    "from awsdet.datasets.data_generator import DataGenerator"
   ]
  },
  {
   "cell_type": "code",
   "execution_count": 4,
   "metadata": {},
   "outputs": [],
   "source": [
    "#config_path = '/workspace/shared_workspace/deep-learning-models/configs/rpn/rpn_r50_fpn_1x_coco.py'\n",
    "config_path = '../configs/faster_rcnn/EC2/faster_rcnn_r50_fpn_1x_coco.py'\n",
    "cfg = Config.fromfile(config_path)\n",
    "timestamp = time.strftime('%Y%m%d_%H%M%S', time.localtime())\n",
    "cfg.work_dir = os.path.join('./work_dirs',\n",
    "                                os.path.splitext(os.path.basename(config_path))[0])\n",
    "log_file = os.path.join(cfg.work_dir, f'{timestamp}.log')"
   ]
  },
  {
   "cell_type": "code",
   "execution_count": 5,
   "metadata": {},
   "outputs": [],
   "source": [
    "init_dist()\n",
    "policy = mixed_precision.Policy('mixed_float16')\n",
    "mixed_precision.set_policy(policy)"
   ]
  },
  {
   "cell_type": "code",
   "execution_count": 6,
   "metadata": {},
   "outputs": [
    {
     "name": "stdout",
     "output_type": "stream",
     "text": [
      "loading annotations into memory...\n",
      "Done (t=16.20s)\n",
      "creating index...\n",
      "index created!\n"
     ]
    }
   ],
   "source": [
    "coco = build_dataset(cfg.data.train)"
   ]
  },
  {
   "cell_type": "code",
   "execution_count": 7,
   "metadata": {},
   "outputs": [],
   "source": [
    "train_tdf, train_size = build_dataloader(coco, 4)\n",
    "train_tdf_iter = iter(train_tdf.prefetch(32).repeat())"
   ]
  },
  {
   "cell_type": "code",
   "execution_count": 8,
   "metadata": {},
   "outputs": [
    {
     "name": "stdout",
     "output_type": "stream",
     "text": [
      "Starting new loop for GPU: 0\n"
     ]
    }
   ],
   "source": [
    "imgs, img_metas, gt_bboxes, gt_labels = next(train_tdf_iter)\n",
    "#imgs = tf.cast(imgs, tf.float16)\n",
    "#img_metas = tf.cast(img_metas, tf.float16)\n",
    "#gt_bboxes = tf.cast(gt_bboxes, tf.float16)\n"
   ]
  },
  {
   "cell_type": "code",
   "execution_count": 9,
   "metadata": {},
   "outputs": [],
   "source": [
    "backbone = build_backbone(cfg.model.backbone)\n",
    "neck = build_neck(cfg.model.neck)\n",
    "rpn_head = build_head(cfg.model.rpn_head)\n",
    "backbone.layers[0].load_weights(cfg.model.backbone.weights_path)"
   ]
  },
  {
   "cell_type": "code",
   "execution_count": 10,
   "metadata": {},
   "outputs": [],
   "source": [
    "@tf.function\n",
    "def forward(imgs):\n",
    "    training = True\n",
    "    C2, C3, C4, C5 = backbone(imgs, training=training)\n",
    "    P2, P3, P4, P5, P6 = neck((C2, C3, C4, C5), training=training)\n",
    "    rpn_feature_maps = [P2, P3, P4, P5, P6]\n",
    "    '''rpn_class_logits, rpn_probs, rpn_deltas = rpn_head(rpn_feature_maps, training=training)'''\n",
    "    return rpn_feature_maps"
   ]
  },
  {
   "cell_type": "code",
   "execution_count": 12,
   "metadata": {},
   "outputs": [
    {
     "name": "stdout",
     "output_type": "stream",
     "text": [
      "1.28 s ± 3.81 ms per loop (mean ± std. dev. of 7 runs, 1 loop each)\n"
     ]
    }
   ],
   "source": [
    "%%timeit\n",
    "imgs, img_metas, gt_bboxes, gt_labels = next(train_tdf_iter)\n",
    "#imgs = tf.cast(imgs, tf.float16)\n",
    "rpn_feature_maps = forward(imgs)"
   ]
  },
  {
   "cell_type": "code",
   "execution_count": 23,
   "metadata": {},
   "outputs": [],
   "source": [
    "feature_maps_sizes = [tf.shape(i)[1:3] for i in rpn_class_logits]\n",
    "anchor_list, valid_flag_list = rpn_head.get_anchors(feature_maps_sizes, img_metas)\n",
    "num_imgs = len(img_metas)"
   ]
  },
  {
   "cell_type": "code",
   "execution_count": 24,
   "metadata": {},
   "outputs": [],
   "source": [
    "flat_anchors = tf.concat(anchor_list[0], axis=0)\n",
    "flat_flags = tf.concat(valid_flag_list[0], axis=0)"
   ]
  },
  {
   "cell_type": "code",
   "execution_count": 21,
   "metadata": {},
   "outputs": [
    {
     "data": {
      "text/plain": [
       "[[<tf.Tensor: shape=(334668, 4), dtype=float32, numpy=\n",
       "  array([[ -22.627417,  -11.313708,   22.627417,   11.313708],\n",
       "         [ -16.      ,  -16.      ,   16.      ,   16.      ],\n",
       "         [ -11.313708,  -22.627417,   11.313708,   22.627417],\n",
       "         ...,\n",
       "         [1309.3726  , 1320.6863  , 1354.6274  , 1343.3137  ],\n",
       "         [1316.      , 1316.      , 1348.      , 1348.      ],\n",
       "         [1320.6863  , 1309.3726  , 1343.3137  , 1354.6274  ]],\n",
       "        dtype=float32)>,\n",
       "  <tf.Tensor: shape=(83667, 4), dtype=float32, numpy=\n",
       "  array([[ -45.254833,  -22.627417,   45.254833,   22.627417],\n",
       "         [ -32.      ,  -32.      ,   32.      ,   32.      ],\n",
       "         [ -22.627417,  -45.254833,   22.627417,   45.254833],\n",
       "         ...,\n",
       "         [1282.7451  , 1305.3726  , 1373.2549  , 1350.6274  ],\n",
       "         [1296.      , 1296.      , 1360.      , 1360.      ],\n",
       "         [1305.3726  , 1282.7451  , 1350.6274  , 1373.2549  ]],\n",
       "        dtype=float32)>,\n",
       "  <tf.Tensor: shape=(21168, 4), dtype=float32, numpy=\n",
       "  array([[ -90.50967 ,  -45.254833,   90.50967 ,   45.254833],\n",
       "         [ -64.      ,  -64.      ,   64.      ,   64.      ],\n",
       "         [ -45.254833,  -90.50967 ,   45.254833,   90.50967 ],\n",
       "         ...,\n",
       "         [1237.4904  , 1282.7451  , 1418.5096  , 1373.2549  ],\n",
       "         [1264.      , 1264.      , 1392.      , 1392.      ],\n",
       "         [1282.7451  , 1237.4904  , 1373.2549  , 1418.5096  ]],\n",
       "        dtype=float32)>,\n",
       "  <tf.Tensor: shape=(5292, 4), dtype=float32, numpy=\n",
       "  array([[-181.01933,  -90.50967,  181.01933,   90.50967],\n",
       "         [-128.     , -128.     ,  128.     ,  128.     ],\n",
       "         [ -90.50967, -181.01933,   90.50967,  181.01933],\n",
       "         ...,\n",
       "         [1130.9807 , 1221.4904 , 1493.0193 , 1402.5096 ],\n",
       "         [1184.     , 1184.     , 1440.     , 1440.     ],\n",
       "         [1221.4904 , 1130.9807 , 1402.5096 , 1493.0193 ]], dtype=float32)>,\n",
       "  <tf.Tensor: shape=(1323, 4), dtype=float32, numpy=\n",
       "  array([[-362.03867, -181.01933,  362.03867,  181.01933],\n",
       "         [-256.     , -256.     ,  256.     ,  256.     ],\n",
       "         [-181.01933, -362.03867,  181.01933,  362.03867],\n",
       "         ...,\n",
       "         [ 917.9613 , 1098.9807 , 1642.0387 , 1461.0193 ],\n",
       "         [1024.     , 1024.     , 1536.     , 1536.     ],\n",
       "         [1098.9807 ,  917.9613 , 1461.0193 , 1642.0387 ]], dtype=float32)>],\n",
       " [<tf.Tensor: shape=(334668, 4), dtype=float32, numpy=\n",
       "  array([[ -22.627417,  -11.313708,   22.627417,   11.313708],\n",
       "         [ -16.      ,  -16.      ,   16.      ,   16.      ],\n",
       "         [ -11.313708,  -22.627417,   11.313708,   22.627417],\n",
       "         ...,\n",
       "         [1309.3726  , 1320.6863  , 1354.6274  , 1343.3137  ],\n",
       "         [1316.      , 1316.      , 1348.      , 1348.      ],\n",
       "         [1320.6863  , 1309.3726  , 1343.3137  , 1354.6274  ]],\n",
       "        dtype=float32)>,\n",
       "  <tf.Tensor: shape=(83667, 4), dtype=float32, numpy=\n",
       "  array([[ -45.254833,  -22.627417,   45.254833,   22.627417],\n",
       "         [ -32.      ,  -32.      ,   32.      ,   32.      ],\n",
       "         [ -22.627417,  -45.254833,   22.627417,   45.254833],\n",
       "         ...,\n",
       "         [1282.7451  , 1305.3726  , 1373.2549  , 1350.6274  ],\n",
       "         [1296.      , 1296.      , 1360.      , 1360.      ],\n",
       "         [1305.3726  , 1282.7451  , 1350.6274  , 1373.2549  ]],\n",
       "        dtype=float32)>,\n",
       "  <tf.Tensor: shape=(21168, 4), dtype=float32, numpy=\n",
       "  array([[ -90.50967 ,  -45.254833,   90.50967 ,   45.254833],\n",
       "         [ -64.      ,  -64.      ,   64.      ,   64.      ],\n",
       "         [ -45.254833,  -90.50967 ,   45.254833,   90.50967 ],\n",
       "         ...,\n",
       "         [1237.4904  , 1282.7451  , 1418.5096  , 1373.2549  ],\n",
       "         [1264.      , 1264.      , 1392.      , 1392.      ],\n",
       "         [1282.7451  , 1237.4904  , 1373.2549  , 1418.5096  ]],\n",
       "        dtype=float32)>,\n",
       "  <tf.Tensor: shape=(5292, 4), dtype=float32, numpy=\n",
       "  array([[-181.01933,  -90.50967,  181.01933,   90.50967],\n",
       "         [-128.     , -128.     ,  128.     ,  128.     ],\n",
       "         [ -90.50967, -181.01933,   90.50967,  181.01933],\n",
       "         ...,\n",
       "         [1130.9807 , 1221.4904 , 1493.0193 , 1402.5096 ],\n",
       "         [1184.     , 1184.     , 1440.     , 1440.     ],\n",
       "         [1221.4904 , 1130.9807 , 1402.5096 , 1493.0193 ]], dtype=float32)>,\n",
       "  <tf.Tensor: shape=(1323, 4), dtype=float32, numpy=\n",
       "  array([[-362.03867, -181.01933,  362.03867,  181.01933],\n",
       "         [-256.     , -256.     ,  256.     ,  256.     ],\n",
       "         [-181.01933, -362.03867,  181.01933,  362.03867],\n",
       "         ...,\n",
       "         [ 917.9613 , 1098.9807 , 1642.0387 , 1461.0193 ],\n",
       "         [1024.     , 1024.     , 1536.     , 1536.     ],\n",
       "         [1098.9807 ,  917.9613 , 1461.0193 , 1642.0387 ]], dtype=float32)>],\n",
       " [<tf.Tensor: shape=(334668, 4), dtype=float32, numpy=\n",
       "  array([[ -22.627417,  -11.313708,   22.627417,   11.313708],\n",
       "         [ -16.      ,  -16.      ,   16.      ,   16.      ],\n",
       "         [ -11.313708,  -22.627417,   11.313708,   22.627417],\n",
       "         ...,\n",
       "         [1309.3726  , 1320.6863  , 1354.6274  , 1343.3137  ],\n",
       "         [1316.      , 1316.      , 1348.      , 1348.      ],\n",
       "         [1320.6863  , 1309.3726  , 1343.3137  , 1354.6274  ]],\n",
       "        dtype=float32)>,\n",
       "  <tf.Tensor: shape=(83667, 4), dtype=float32, numpy=\n",
       "  array([[ -45.254833,  -22.627417,   45.254833,   22.627417],\n",
       "         [ -32.      ,  -32.      ,   32.      ,   32.      ],\n",
       "         [ -22.627417,  -45.254833,   22.627417,   45.254833],\n",
       "         ...,\n",
       "         [1282.7451  , 1305.3726  , 1373.2549  , 1350.6274  ],\n",
       "         [1296.      , 1296.      , 1360.      , 1360.      ],\n",
       "         [1305.3726  , 1282.7451  , 1350.6274  , 1373.2549  ]],\n",
       "        dtype=float32)>,\n",
       "  <tf.Tensor: shape=(21168, 4), dtype=float32, numpy=\n",
       "  array([[ -90.50967 ,  -45.254833,   90.50967 ,   45.254833],\n",
       "         [ -64.      ,  -64.      ,   64.      ,   64.      ],\n",
       "         [ -45.254833,  -90.50967 ,   45.254833,   90.50967 ],\n",
       "         ...,\n",
       "         [1237.4904  , 1282.7451  , 1418.5096  , 1373.2549  ],\n",
       "         [1264.      , 1264.      , 1392.      , 1392.      ],\n",
       "         [1282.7451  , 1237.4904  , 1373.2549  , 1418.5096  ]],\n",
       "        dtype=float32)>,\n",
       "  <tf.Tensor: shape=(5292, 4), dtype=float32, numpy=\n",
       "  array([[-181.01933,  -90.50967,  181.01933,   90.50967],\n",
       "         [-128.     , -128.     ,  128.     ,  128.     ],\n",
       "         [ -90.50967, -181.01933,   90.50967,  181.01933],\n",
       "         ...,\n",
       "         [1130.9807 , 1221.4904 , 1493.0193 , 1402.5096 ],\n",
       "         [1184.     , 1184.     , 1440.     , 1440.     ],\n",
       "         [1221.4904 , 1130.9807 , 1402.5096 , 1493.0193 ]], dtype=float32)>,\n",
       "  <tf.Tensor: shape=(1323, 4), dtype=float32, numpy=\n",
       "  array([[-362.03867, -181.01933,  362.03867,  181.01933],\n",
       "         [-256.     , -256.     ,  256.     ,  256.     ],\n",
       "         [-181.01933, -362.03867,  181.01933,  362.03867],\n",
       "         ...,\n",
       "         [ 917.9613 , 1098.9807 , 1642.0387 , 1461.0193 ],\n",
       "         [1024.     , 1024.     , 1536.     , 1536.     ],\n",
       "         [1098.9807 ,  917.9613 , 1461.0193 , 1642.0387 ]], dtype=float32)>],\n",
       " [<tf.Tensor: shape=(334668, 4), dtype=float32, numpy=\n",
       "  array([[ -22.627417,  -11.313708,   22.627417,   11.313708],\n",
       "         [ -16.      ,  -16.      ,   16.      ,   16.      ],\n",
       "         [ -11.313708,  -22.627417,   11.313708,   22.627417],\n",
       "         ...,\n",
       "         [1309.3726  , 1320.6863  , 1354.6274  , 1343.3137  ],\n",
       "         [1316.      , 1316.      , 1348.      , 1348.      ],\n",
       "         [1320.6863  , 1309.3726  , 1343.3137  , 1354.6274  ]],\n",
       "        dtype=float32)>,\n",
       "  <tf.Tensor: shape=(83667, 4), dtype=float32, numpy=\n",
       "  array([[ -45.254833,  -22.627417,   45.254833,   22.627417],\n",
       "         [ -32.      ,  -32.      ,   32.      ,   32.      ],\n",
       "         [ -22.627417,  -45.254833,   22.627417,   45.254833],\n",
       "         ...,\n",
       "         [1282.7451  , 1305.3726  , 1373.2549  , 1350.6274  ],\n",
       "         [1296.      , 1296.      , 1360.      , 1360.      ],\n",
       "         [1305.3726  , 1282.7451  , 1350.6274  , 1373.2549  ]],\n",
       "        dtype=float32)>,\n",
       "  <tf.Tensor: shape=(21168, 4), dtype=float32, numpy=\n",
       "  array([[ -90.50967 ,  -45.254833,   90.50967 ,   45.254833],\n",
       "         [ -64.      ,  -64.      ,   64.      ,   64.      ],\n",
       "         [ -45.254833,  -90.50967 ,   45.254833,   90.50967 ],\n",
       "         ...,\n",
       "         [1237.4904  , 1282.7451  , 1418.5096  , 1373.2549  ],\n",
       "         [1264.      , 1264.      , 1392.      , 1392.      ],\n",
       "         [1282.7451  , 1237.4904  , 1373.2549  , 1418.5096  ]],\n",
       "        dtype=float32)>,\n",
       "  <tf.Tensor: shape=(5292, 4), dtype=float32, numpy=\n",
       "  array([[-181.01933,  -90.50967,  181.01933,   90.50967],\n",
       "         [-128.     , -128.     ,  128.     ,  128.     ],\n",
       "         [ -90.50967, -181.01933,   90.50967,  181.01933],\n",
       "         ...,\n",
       "         [1130.9807 , 1221.4904 , 1493.0193 , 1402.5096 ],\n",
       "         [1184.     , 1184.     , 1440.     , 1440.     ],\n",
       "         [1221.4904 , 1130.9807 , 1402.5096 , 1493.0193 ]], dtype=float32)>,\n",
       "  <tf.Tensor: shape=(1323, 4), dtype=float32, numpy=\n",
       "  array([[-362.03867, -181.01933,  362.03867,  181.01933],\n",
       "         [-256.     , -256.     ,  256.     ,  256.     ],\n",
       "         [-181.01933, -362.03867,  181.01933,  362.03867],\n",
       "         ...,\n",
       "         [ 917.9613 , 1098.9807 , 1642.0387 , 1461.0193 ],\n",
       "         [1024.     , 1024.     , 1536.     , 1536.     ],\n",
       "         [1098.9807 ,  917.9613 , 1461.0193 , 1642.0387 ]], dtype=float32)>]]"
      ]
     },
     "execution_count": 21,
     "metadata": {},
     "output_type": "execute_result"
    }
   ],
   "source": [
    "anchor_list"
   ]
  },
  {
   "cell_type": "code",
   "execution_count": null,
   "metadata": {},
   "outputs": [],
   "source": []
  }
 ],
 "metadata": {
  "kernelspec": {
   "display_name": "Python 3",
   "language": "python",
   "name": "python3"
  },
  "language_info": {
   "codemirror_mode": {
    "name": "ipython",
    "version": 3
   },
   "file_extension": ".py",
   "mimetype": "text/x-python",
   "name": "python",
   "nbconvert_exporter": "python",
   "pygments_lexer": "ipython3",
   "version": "3.6.9"
  }
 },
 "nbformat": 4,
 "nbformat_minor": 4
}
