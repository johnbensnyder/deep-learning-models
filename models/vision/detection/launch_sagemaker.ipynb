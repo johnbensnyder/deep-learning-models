{
 "cells": [
  {
   "cell_type": "code",
   "execution_count": 1,
   "metadata": {},
   "outputs": [],
   "source": [
    "from sagemaker import get_execution_role\n",
    "from sagemaker.tensorflow import TensorFlow\n",
    "from datetime import datetime\n",
    "import os\n",
    "import pprint"
   ]
  },
  {
   "cell_type": "markdown",
   "metadata": {},
   "source": [
    "### Hyperparameters that override default config "
   ]
  },
  {
   "cell_type": "code",
   "execution_count": 23,
   "metadata": {},
   "outputs": [],
   "source": [
    "hyperparameters = {\n",
    "        'schedule': '1x',\n",
    "        'fp16': True,\n",
    "        'base_learning_rate': 15e-3,\n",
    "        'warmup_steps': 500,\n",
    "        'warmup_init_lr_scale': 3.0,\n",
    "        'instance_type': 'ml.p3dn.24xlarge',\n",
    "        'instance_count': 2,\n",
    "        'batch_size_per_device': 2,\n",
    "        'num_workers_per_host': 8,\n",
    "        'use_conv': True,\n",
    "        'use_rcnn_bn': False,\n",
    "        'ls': 0.0\n",
    "    }"
   ]
  },
  {
   "cell_type": "markdown",
   "metadata": {},
   "source": [
    "### Distributed training configuration"
   ]
  },
  {
   "cell_type": "code",
   "execution_count": 24,
   "metadata": {},
   "outputs": [],
   "source": [
    "# single default config that can be overriden for HPO by manipulating key\n",
    "model_cfg = \"configs/sagemaker_default_config.py\"\n",
    "hvd_processes_per_host = hyperparameters['num_workers_per_host']\n",
    "hvd_instance_type = hyperparameters['instance_type']\n",
    "hvd_instance_count = hyperparameters['instance_count']"
   ]
  },
  {
   "cell_type": "markdown",
   "metadata": {},
   "source": [
    "### SageMaker configuration"
   ]
  },
  {
   "cell_type": "code",
   "execution_count": 25,
   "metadata": {},
   "outputs": [],
   "source": [
    "role = \"arn:aws:iam::578276202366:role/service-role/AmazonSageMaker-ExecutionRole-20191220T135085\"#get_execution_role()\n",
    "now = datetime.now()\n",
    "time_str = now.strftime(\"%d-%m-%Y-%H-%M\")\n",
    "user_id = 'jbsnyder'\n",
    "image = '578276202366.dkr.ecr.us-east-1.amazonaws.com/jbsnyder:faster_rcnn'\n",
    "source_dir = \"/workspace/shared_workspace/deep-learning-models/models/vision/detection/\"\n",
    "main_script = \"tools/train_sagemaker.py\"\n",
    "ec2_instance = hvd_instance_type.replace(\".\",\"\")\n",
    "\n",
    "distributions = {\n",
    "    \"mpi\": {\n",
    "        \"enabled\": True,\n",
    "        \"processes_per_host\": hvd_processes_per_host,\n",
    "        \"custom_mpi_options\": \"-x OMPI_MCA_btl_vader_single_copy_mechanism=none -x TF_CUDNN_USE_AUTOTUNE=0\"\n",
    "#        \\\n",
    "#        -x HOROVOD_NUM_NCCL_STREAMS=2 -x NCCL_TREE_THRESHOLD=4294967296 -x NCCL_MIN_NRINGS=13\\\n",
    "#        -x HOROVOD_CYCLE_TIME=0.5 -x HOROVOD_FUSION_THRESHOLD=67108864\",\n",
    "    }\n",
    "}\n",
    "\n",
    "channels = {\n",
    "    'coco': 's3://jbsnyder-sagemaker/faster-rcnn/data/coco/',\n",
    "    'weights': 's3://jbsnyder-sagemaker/faster-rcnn/data/weights/'\n",
    "}\n",
    "\n",
    "s3_path = os.path.join('s3://jbsnyder-sagemaker/faster-rcnn/scaling', time_str)\n",
    "\n",
    "job_name = '{}-1-2-scaling-{}'.format(user_id, time_str)\n",
    "\n",
    "output_path = os.path.join(s3_path, \"output\", job_name)\n",
    "\n",
    "subnets=['subnet-58b35b04']\n",
    "\n",
    "security_group_ids=['sg-02a21bf8f59e59172']\n",
    "\n",
    "configuration = {\n",
    "    'configuration': 'configs/sagemaker_default_model_config.py', \n",
    "    's3_path': s3_path,\n",
    "    'instance_name': job_name\n",
    "}\n",
    "configuration.update(hyperparameters)"
   ]
  },
  {
   "cell_type": "code",
   "execution_count": 20,
   "metadata": {},
   "outputs": [
    {
     "name": "stdout",
     "output_type": "stream",
     "text": [
      "{'base_learning_rate': 0.015,\n",
      " 'batch_size_per_device': 2,\n",
      " 'configuration': 'configs/sagemaker_default_model_config.py',\n",
      " 'fp16': True,\n",
      " 'instance_count': 1,\n",
      " 'instance_name': 'jbsnyder-1-2-scaling-15-05-2020-12-40',\n",
      " 'instance_type': 'ml.p3.16xlarge',\n",
      " 'ls': 0.0,\n",
      " 'num_workers_per_host': 8,\n",
      " 's3_path': 's3://jbsnyder-sagemaker/faster-rcnn/15-05-2020-12-40',\n",
      " 'schedule': '1x',\n",
      " 'use_conv': True,\n",
      " 'use_rcnn_bn': False,\n",
      " 'warmup_init_lr_scale': 3.0,\n",
      " 'warmup_steps': 500}\n"
     ]
    }
   ],
   "source": [
    "pprint.pprint(configuration)"
   ]
  },
  {
   "cell_type": "code",
   "execution_count": 21,
   "metadata": {},
   "outputs": [],
   "source": [
    "estimator = TensorFlow(\n",
    "                entry_point=main_script, \n",
    "                source_dir=source_dir, \n",
    "                image_name=image, \n",
    "                role=role,\n",
    "                framework_version=\"2.1.0\",\n",
    "                py_version=\"py3\",\n",
    "                train_instance_count=hvd_instance_count,\n",
    "                train_instance_type=hvd_instance_type,\n",
    "                distributions=distributions,\n",
    "                output_path=output_path, train_volume_size=200,\n",
    "                hyperparameters=configuration\n",
    ")"
   ]
  },
  {
   "cell_type": "code",
   "execution_count": 22,
   "metadata": {},
   "outputs": [],
   "source": [
    "estimator.fit(channels, wait=False, job_name=job_name)"
   ]
  },
  {
   "cell_type": "code",
   "execution_count": null,
   "metadata": {},
   "outputs": [],
   "source": []
  }
 ],
 "metadata": {
  "kernelspec": {
   "display_name": "Python 3",
   "language": "python",
   "name": "python3"
  },
  "language_info": {
   "codemirror_mode": {
    "name": "ipython",
    "version": 3
   },
   "file_extension": ".py",
   "mimetype": "text/x-python",
   "name": "python",
   "nbconvert_exporter": "python",
   "pygments_lexer": "ipython3",
   "version": "3.6.9"
  }
 },
 "nbformat": 4,
 "nbformat_minor": 4
}
