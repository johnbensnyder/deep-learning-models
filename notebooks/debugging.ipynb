{
 "cells": [
  {
   "cell_type": "code",
   "execution_count": 1,
   "metadata": {},
   "outputs": [],
   "source": [
    "import sys\n",
    "import os\n",
    "import time\n",
    "sys.path.append('..')"
   ]
  },
  {
   "cell_type": "code",
   "execution_count": 2,
   "metadata": {},
   "outputs": [],
   "source": [
    "from awsdet.utils.misc.config import Config\n",
    "from awsdet.utils.logger import get_root_logger\n",
    "from awsdet.utils.runner.dist_utils import init_dist\n",
    "from awsdet.datasets.data_generator import DataGenerator\n",
    "from awsdet.datasets import build_dataset\n",
    "from awsdet.datasets.loader.build_loader import build_dataloader\n",
    "import tensorflow as tf\n",
    "import matplotlib.pyplot as plt\n",
    "\n",
    "from awsdet.datasets.data_generator import DataGenerator"
   ]
  },
  {
   "cell_type": "code",
   "execution_count": 3,
   "metadata": {},
   "outputs": [],
   "source": [
    "#config_path = '/workspace/shared_workspace/deep-learning-models/configs/rpn/rpn_r50_fpn_1x_coco.py'\n",
    "config_path = '/workspace/shared_workspace/deep-learning-models/configs/mask_rcnn/mask_rcnn_r50_fpn_1x_coco.py'\n",
    "cfg = Config.fromfile(config_path)\n",
    "timestamp = time.strftime('%Y%m%d_%H%M%S', time.localtime())\n",
    "cfg.work_dir = os.path.join('./work_dirs',\n",
    "                                os.path.splitext(os.path.basename(config_path))[0])\n",
    "log_file = os.path.join(cfg.work_dir, f'{timestamp}.log')"
   ]
  },
  {
   "cell_type": "code",
   "execution_count": 4,
   "metadata": {},
   "outputs": [],
   "source": [
    "init_dist()"
   ]
  },
  {
   "cell_type": "code",
   "execution_count": 5,
   "metadata": {},
   "outputs": [
    {
     "name": "stdout",
     "output_type": "stream",
     "text": [
      "loading annotations into memory...\n",
      "Done (t=22.61s)\n",
      "creating index...\n",
      "index created!\n"
     ]
    }
   ],
   "source": [
    "coco = build_dataset(cfg.data.train)"
   ]
  },
  {
   "cell_type": "code",
   "execution_count": 6,
   "metadata": {},
   "outputs": [],
   "source": [
    "#coco[0]['gt_masks'].to_tensor()"
   ]
  },
  {
   "cell_type": "code",
   "execution_count": 7,
   "metadata": {},
   "outputs": [],
   "source": [
    "dg = DataGenerator(coco)()"
   ]
  },
  {
   "cell_type": "code",
   "execution_count": 8,
   "metadata": {},
   "outputs": [
    {
     "name": "stdout",
     "output_type": "stream",
     "text": [
      "Starting new loop for GPU: 0\n"
     ]
    }
   ],
   "source": [
    "img, meta, gt_boxes, gt_labels, gt_masks = next(dg)"
   ]
  },
  {
   "cell_type": "code",
   "execution_count": 9,
   "metadata": {},
   "outputs": [],
   "source": [
    "train_tdf, train_size = build_dataloader(coco, 2)\n",
    "train_tdf_iter = iter(train_tdf)"
   ]
  },
  {
   "cell_type": "code",
   "execution_count": 10,
   "metadata": {},
   "outputs": [
    {
     "name": "stdout",
     "output_type": "stream",
     "text": [
      "Starting new loop for GPU: 0\n"
     ]
    }
   ],
   "source": [
    "imgs, img_metas, gt_bboxes, gt_labels, gt_masks = next(train_tdf_iter)"
   ]
  },
  {
   "cell_type": "code",
   "execution_count": 11,
   "metadata": {},
   "outputs": [],
   "source": [
    "import matplotlib.patches as patches\n",
    "\n",
    "def get_original_image(img):\n",
    "    img = (img * \\\n",
    "       [58.395, 57.12, 57.375] + \\\n",
    "       [123.675, 116.28, 103.53])/255.\n",
    "    #img = img[:img_instance['img_metas']['img_shape'][0], :img_instance['img_metas']['img_shape'][1], :]\n",
    "    return img\n",
    "\n",
    "def show_box(img, bbox):\n",
    "    img = get_original_image(img)\n",
    "    fig, ax = plt.subplots(figsize=(10, 10))\n",
    "    ax.imshow(img)\n",
    "    y1 = bbox[1]\n",
    "    x1 = bbox[0]\n",
    "    h = bbox[3] - bbox[1]\n",
    "    w = bbox[2] - bbox[0]\n",
    "    rect = patches.Rectangle((y1,x1),h,w,linewidth=1,edgecolor='r',facecolor='none')\n",
    "    ax.add_patch(rect)\n",
    "    plt.show()"
   ]
  },
  {
   "cell_type": "code",
   "execution_count": 102,
   "metadata": {},
   "outputs": [],
   "source": [
    "#fig, ax = plt.subplots(figsize=(10, 10))\n",
    "#ax.imshow(get_original_image(imgs[1]))"
   ]
  },
  {
   "cell_type": "code",
   "execution_count": 103,
   "metadata": {},
   "outputs": [],
   "source": [
    "#fig, ax = plt.subplots(figsize=(10, 10))\n",
    "#ax.imshow(gt_masks[1][0])"
   ]
  },
  {
   "cell_type": "code",
   "execution_count": 14,
   "metadata": {},
   "outputs": [
    {
     "data": {
      "text/plain": [
       "<tf.Tensor: shape=(2, 3), dtype=int32, numpy=\n",
       "array([[ 6,  9,  9],\n",
       "       [ 3,  0, -1]], dtype=int32)>"
      ]
     },
     "execution_count": 14,
     "metadata": {},
     "output_type": "execute_result"
    }
   ],
   "source": [
    "gt_labels"
   ]
  },
  {
   "cell_type": "code",
   "execution_count": 15,
   "metadata": {},
   "outputs": [],
   "source": [
    "#logger = get_root_logger(log_file=log_file, log_level=cfg.log_level)"
   ]
  },
  {
   "cell_type": "code",
   "execution_count": 16,
   "metadata": {},
   "outputs": [
    {
     "data": {
      "text/plain": [
       "['img', 'gt_bboxes', 'gt_labels', 'gt_masks']"
      ]
     },
     "execution_count": 16,
     "metadata": {},
     "output_type": "execute_result"
    }
   ],
   "source": [
    "coco.pipeline.transforms[-1].keys"
   ]
  },
  {
   "cell_type": "code",
   "execution_count": 17,
   "metadata": {},
   "outputs": [],
   "source": [
    "#show_box(coco[0])"
   ]
  },
  {
   "cell_type": "code",
   "execution_count": 18,
   "metadata": {},
   "outputs": [],
   "source": [
    "from awsdet.models.builder import build_backbone, build_neck"
   ]
  },
  {
   "cell_type": "code",
   "execution_count": 19,
   "metadata": {},
   "outputs": [],
   "source": [
    "from awsdet.core.anchor.builder import build_anchor_generator\n",
    "from awsdet.core.bbox.builder import build_assigner"
   ]
  },
  {
   "cell_type": "code",
   "execution_count": 20,
   "metadata": {},
   "outputs": [],
   "source": [
    "#from awsdet.core.bbox.iou_calculators.iou2d_calculator import compute_overlaps\n",
    "#from awsdet.utils.misc.meta import trim_zeros, calc_img_shapes\n",
    "#from awsdet.core.bbox.assigners.assign_result"
   ]
  },
  {
   "cell_type": "code",
   "execution_count": 21,
   "metadata": {},
   "outputs": [],
   "source": [
    "backbone = build_backbone(cfg.model.backbone)\n",
    "neck = build_neck(cfg.model.neck)"
   ]
  },
  {
   "cell_type": "code",
   "execution_count": 34,
   "metadata": {},
   "outputs": [],
   "source": [
    "imgs, img_metas, gt_bboxes, gt_labels, gt_masks = next(train_tdf_iter)\n",
    "C2, C3, C4, C5 = backbone(imgs)\n",
    "P2, P3, P4, P5, P6 = neck((C2, C3, C4, C5))"
   ]
  },
  {
   "cell_type": "code",
   "execution_count": 35,
   "metadata": {},
   "outputs": [],
   "source": [
    "anchor_generator = build_anchor_generator(cfg.model.rpn_head.anchor_generator)"
   ]
  },
  {
   "cell_type": "code",
   "execution_count": 36,
   "metadata": {},
   "outputs": [],
   "source": [
    "rpn_feature_maps = [P2, P3, P4, P5, P6]"
   ]
  },
  {
   "cell_type": "code",
   "execution_count": 37,
   "metadata": {},
   "outputs": [],
   "source": [
    "featmap_sizes = [tf.shape(i)[1:3] for i in rpn_feature_maps]\n",
    "num_imgs = len(img_metas)\n",
    "multi_level_anchors = anchor_generator.grid_anchors(featmap_sizes)\n",
    "anchor_list = [multi_level_anchors for _ in range(num_imgs)]\n",
    "valid_flags = [anchor_generator.valid_flags(featmap_sizes, i[3:5]) for i in img_metas]"
   ]
  },
  {
   "cell_type": "code",
   "execution_count": 38,
   "metadata": {},
   "outputs": [],
   "source": [
    "assigner_dict = {'type': 'MaxIoUAssigner',\n",
    "                 'pos_iou_thr': 0.7,\n",
    "                 'neg_iou_thr': 0.3}\n",
    "assigner = build_assigner(assigner_dict)"
   ]
  },
  {
   "cell_type": "code",
   "execution_count": 65,
   "metadata": {},
   "outputs": [],
   "source": [
    "assign_result = assigner.assign(anchor_list[0], gt_bboxes[0], valid_flags=valid_flags[0], gt_labels=gt_labels[0])"
   ]
  },
  {
   "cell_type": "code",
   "execution_count": 66,
   "metadata": {},
   "outputs": [],
   "source": [
    "pos_anchors = tf.squeeze(tf.gather(tf.concat(anchor_list[0], axis=0), tf.where(assign_result.gt_inds>0)))\n",
    "neg_anchors = tf.squeeze(tf.gather(tf.concat(anchor_list[0], axis=0), tf.where(assign_result.gt_inds==0)))"
   ]
  },
  {
   "cell_type": "code",
   "execution_count": 67,
   "metadata": {},
   "outputs": [],
   "source": [
    "#tf.gather(result.labels, tf.where(result.gt_inds>0))"
   ]
  },
  {
   "cell_type": "code",
   "execution_count": 75,
   "metadata": {},
   "outputs": [],
   "source": [
    "#show_box(imgs[0], pos_anchors[16])\n",
    "import tensorflow as tf\n",
    "from awsdet.utils.misc.meta import trim_zeros"
   ]
  },
  {
   "cell_type": "code",
   "execution_count": 88,
   "metadata": {},
   "outputs": [],
   "source": [
    "anchors = tf.concat(anchor_list[0], axis=0)\n",
    "gt_box, gt_bool = trim_zeros(gt_bboxes[0])\n",
    "gt_flags = tf.zeros(tf.shape(anchors)[0], dtype=tf.int8)\n",
    "bboxes = tf.concat([gt_box, anchors], axis=0)\n",
    "gt_label = tf.boolean_mask(gt_labels[0], gt_bool)"
   ]
  },
  {
   "cell_type": "code",
   "execution_count": 99,
   "metadata": {},
   "outputs": [],
   "source": [
    "self_inds = tf.range(\n",
    "            1, len(gt_label) + 1, dtype=tf.int32)"
   ]
  },
  {
   "cell_type": "code",
   "execution_count": 100,
   "metadata": {},
   "outputs": [
    {
     "data": {
      "text/plain": [
       "<tf.Tensor: shape=(7,), dtype=int32, numpy=array([1, 2, 3, 4, 5, 6, 7], dtype=int32)>"
      ]
     },
     "execution_count": 100,
     "metadata": {},
     "output_type": "execute_result"
    }
   ],
   "source": [
    "self_inds"
   ]
  },
  {
   "cell_type": "code",
   "execution_count": 98,
   "metadata": {},
   "outputs": [
    {
     "data": {
      "text/plain": [
       "<tf.Tensor: shape=(2, 24), dtype=int32, numpy=\n",
       "array([[32,  2,  2,  0,  0, 35, 34, -1, -1, -1, -1, -1, -1, -1, -1, -1,\n",
       "        -1, -1, -1, -1, -1, -1, -1, -1],\n",
       "       [56, 56,  0,  0,  0,  0, 44, 44, 55, 55, 55, 55, 55, 55, 55, 42,\n",
       "        42, 60, 44, 60, 42, 44, 42, 42]], dtype=int32)>"
      ]
     },
     "execution_count": 98,
     "metadata": {},
     "output_type": "execute_result"
    }
   ],
   "source": [
    "gt_labels"
   ]
  },
  {
   "cell_type": "code",
   "execution_count": null,
   "metadata": {},
   "outputs": [],
   "source": []
  }
 ],
 "metadata": {
  "kernelspec": {
   "display_name": "Python 3",
   "language": "python",
   "name": "python3"
  },
  "language_info": {
   "codemirror_mode": {
    "name": "ipython",
    "version": 3
   },
   "file_extension": ".py",
   "mimetype": "text/x-python",
   "name": "python",
   "nbconvert_exporter": "python",
   "pygments_lexer": "ipython3",
   "version": "3.7.7"
  }
 },
 "nbformat": 4,
 "nbformat_minor": 4
}
