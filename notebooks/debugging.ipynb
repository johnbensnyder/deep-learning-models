{
 "cells": [
  {
   "cell_type": "code",
   "execution_count": null,
   "metadata": {},
   "outputs": [],
   "source": [
    "import sys\n",
    "import os\n",
    "import time\n",
    "sys.path.append('..')"
   ]
  },
  {
   "cell_type": "code",
   "execution_count": 2,
   "metadata": {},
   "outputs": [],
   "source": [
    "from awsdet.utils.misc.config import Config\n",
    "from awsdet.utils.logger import get_root_logger\n",
    "from awsdet.utils.runner.dist_utils import init_dist\n",
    "from awsdet.datasets.data_generator import DataGenerator\n",
    "from awsdet.datasets import build_dataset\n",
    "from awsdet.datasets.loader.build_loader import build_dataloader\n",
    "import tensorflow as tf\n",
    "import matplotlib.pyplot as plt"
   ]
  },
  {
   "cell_type": "code",
   "execution_count": 3,
   "metadata": {},
   "outputs": [],
   "source": [
    "config_path = '/workspace/shared_workspace/deep-learning-models/configs/rpn/rpn_r50_fpn_1x_coco.py'\n",
    "cfg = Config.fromfile(config_path)\n",
    "timestamp = time.strftime('%Y%m%d_%H%M%S', time.localtime())\n",
    "cfg.work_dir = os.path.join('./work_dirs',\n",
    "                                os.path.splitext(os.path.basename(config_path))[0])\n",
    "log_file = os.path.join(cfg.work_dir, f'{timestamp}.log')"
   ]
  },
  {
   "cell_type": "code",
   "execution_count": 4,
   "metadata": {},
   "outputs": [],
   "source": [
    "import matplotlib.patches as patches\n",
    "\n",
    "def get_original_image(img_instance):\n",
    "    img = (img_instance['img'] * \\\n",
    "       img_instance['img_metas']['img_norm_cfg']['std'] + \\\n",
    "       img_instance['img_metas']['img_norm_cfg']['mean'])/255.\n",
    "    #img = img[:img_instance['img_metas']['img_shape'][0], :img_instance['img_metas']['img_shape'][1], :]\n",
    "    return img\n",
    "\n",
    "def show_box(img_instance, box_index=0):\n",
    "    img = get_original_image(img_instance)\n",
    "    fig, ax = plt.subplots(figsize=(10, 10))\n",
    "    ax.imshow(img)\n",
    "    bbox = img_instance['gt_bboxes'][box_index]\n",
    "    y1 = bbox[1]\n",
    "    x1 = bbox[0]\n",
    "    h = bbox[3] - bbox[1]\n",
    "    w = bbox[2] - bbox[0]\n",
    "    rect = patches.Rectangle((y1,x1),h,w,linewidth=1,edgecolor='r',facecolor='none')\n",
    "    ax.add_patch(rect)\n",
    "    plt.show()"
   ]
  },
  {
   "cell_type": "code",
   "execution_count": 5,
   "metadata": {},
   "outputs": [],
   "source": [
    "init_dist()"
   ]
  },
  {
   "cell_type": "code",
   "execution_count": 6,
   "metadata": {},
   "outputs": [],
   "source": [
    "#logger = get_root_logger(log_file=log_file, log_level=cfg.log_level)"
   ]
  },
  {
   "cell_type": "code",
   "execution_count": 7,
   "metadata": {},
   "outputs": [
    {
     "name": "stdout",
     "output_type": "stream",
     "text": [
      "loading annotations into memory...\n",
      "Done (t=17.18s)\n",
      "creating index...\n",
      "index created!\n"
     ]
    }
   ],
   "source": [
    "coco = build_dataset(cfg.data.train)"
   ]
  },
  {
   "cell_type": "code",
   "execution_count": 8,
   "metadata": {},
   "outputs": [],
   "source": [
    "train_tdf, train_size = build_dataloader(coco, 2)\n",
    "train_tdf_iter = iter(train_tdf)"
   ]
  },
  {
   "cell_type": "code",
   "execution_count": 9,
   "metadata": {},
   "outputs": [
    {
     "data": {
      "text/plain": [
       "{'type': 'KerasBackbone',\n",
       " 'model_name': 'ResNet50V1',\n",
       " 'weights_path': None,\n",
       " 'weight_decay': 0.0001}"
      ]
     },
     "execution_count": 9,
     "metadata": {},
     "output_type": "execute_result"
    }
   ],
   "source": [
    "cfg.model.backbone"
   ]
  },
  {
   "cell_type": "code",
   "execution_count": 27,
   "metadata": {},
   "outputs": [],
   "source": [
    "#show_box(coco[0])"
   ]
  },
  {
   "cell_type": "code",
   "execution_count": 11,
   "metadata": {},
   "outputs": [],
   "source": [
    "from awsdet.models.builder import build_backbone, build_neck"
   ]
  },
  {
   "cell_type": "code",
   "execution_count": 12,
   "metadata": {},
   "outputs": [],
   "source": [
    "from awsdet.core.anchor.builder import build_anchor_generator\n",
    "from awsdet.core.bbox.builder import build_assigner"
   ]
  },
  {
   "cell_type": "code",
   "execution_count": 13,
   "metadata": {},
   "outputs": [],
   "source": [
    "#from awsdet.core.bbox.iou_calculators.iou2d_calculator import compute_overlaps\n",
    "#from awsdet.utils.misc.meta import trim_zeros, calc_img_shapes\n",
    "#from awsdet.core.bbox.assigners.assign_result"
   ]
  },
  {
   "cell_type": "code",
   "execution_count": 14,
   "metadata": {},
   "outputs": [],
   "source": [
    "backbone = build_backbone(cfg.model.backbone)\n",
    "neck = build_neck(cfg.model.neck)"
   ]
  },
  {
   "cell_type": "code",
   "execution_count": 15,
   "metadata": {},
   "outputs": [
    {
     "name": "stdout",
     "output_type": "stream",
     "text": [
      "Starting new loop for GPU: 0\n"
     ]
    }
   ],
   "source": [
    "imgs, img_metas, gt_bboxes = next(train_tdf_iter)\n",
    "C2, C3, C4, C5 = backbone(imgs)\n",
    "P2, P3, P4, P5, P6 = neck((C2, C3, C4, C5))"
   ]
  },
  {
   "cell_type": "code",
   "execution_count": 16,
   "metadata": {},
   "outputs": [],
   "source": [
    "anchor_generator = build_anchor_generator(cfg.model.rpn_head.anchor_generator)"
   ]
  },
  {
   "cell_type": "code",
   "execution_count": 17,
   "metadata": {},
   "outputs": [],
   "source": [
    "rpn_feature_maps = [P2, P3, P4, P5, P6]"
   ]
  },
  {
   "cell_type": "code",
   "execution_count": 18,
   "metadata": {},
   "outputs": [],
   "source": [
    "featmap_sizes = [tf.shape(i)[1:3] for i in rpn_feature_maps]\n",
    "num_imgs = len(img_metas)\n",
    "multi_level_anchors = anchor_generator.grid_anchors(featmap_sizes)\n",
    "anchor_list = [multi_level_anchors for _ in range(num_imgs)]"
   ]
  },
  {
   "cell_type": "code",
   "execution_count": 19,
   "metadata": {},
   "outputs": [],
   "source": [
    "assigner_dict = {'type': 'MaxIoUAssigner',\n",
    "                 'pos_iou_thr': 0.7,\n",
    "                 'neg_iou_thr': 0.3}\n",
    "assigner = build_assigner(assigner_dict)"
   ]
  },
  {
   "cell_type": "code",
   "execution_count": 21,
   "metadata": {},
   "outputs": [],
   "source": [
    "result = assigner.assign(anchor_list[0], gt_bboxes[0])"
   ]
  },
  {
   "cell_type": "code",
   "execution_count": 24,
   "metadata": {},
   "outputs": [],
   "source": [
    "pos_anchors = tf.squeeze(tf.gather(tf.concat(anchor_list[0], axis=0), tf.where(result.gt_inds>0)))"
   ]
  },
  {
   "cell_type": "code",
   "execution_count": 25,
   "metadata": {},
   "outputs": [],
   "source": [
    "import matplotlib.patches as patches\n",
    "\n",
    "def get_original_image(img):\n",
    "    img = (img * \\\n",
    "       [58.395, 57.12 , 57.375] + \\\n",
    "       [123.675, 116.28 , 103.53 ])/255.\n",
    "    #img = img[:img_instance['img_metas']['img_shape'][0], :img_instance['img_metas']['img_shape'][1], :]\n",
    "    return img\n",
    "\n",
    "def show_box(img, bbox):\n",
    "    img = get_original_image(img)\n",
    "    fig, ax = plt.subplots(figsize=(10, 10))\n",
    "    ax.imshow(img)\n",
    "    y1 = bbox[1]\n",
    "    x1 = bbox[0]\n",
    "    h = bbox[3] - bbox[1]\n",
    "    w = bbox[2] - bbox[0]\n",
    "    rect = patches.Rectangle((y1,x1),h,w,linewidth=1,edgecolor='r',facecolor='none')\n",
    "    ax.add_patch(rect)\n",
    "    plt.show()"
   ]
  },
  {
   "cell_type": "code",
   "execution_count": 28,
   "metadata": {},
   "outputs": [],
   "source": [
    "#show_box(imgs[0], pos_anchors[6])"
   ]
  },
  {
   "cell_type": "code",
   "execution_count": 133,
   "metadata": {},
   "outputs": [
    {
     "data": {
      "text/plain": [
       "{'img_metas': {'filename': '/workspace/shared_workspace/data/coco/coco/train2017/000000391895.jpg',\n",
       "  'ori_filename': '000000391895.jpg',\n",
       "  'ori_shape': (360, 640, 3),\n",
       "  'img_shape': (750, 1333, 3),\n",
       "  'pad_shape': (1333, 1333, 3),\n",
       "  'scale_factor': array([2.0828125, 2.0833333, 2.0828125, 2.0833333], dtype=float32),\n",
       "  'flip': True,\n",
       "  'flip_direction': 'horizontal',\n",
       "  'img_norm_cfg': {'mean': array([123.675, 116.28 , 103.53 ], dtype=float32),\n",
       "   'std': array([58.395, 57.12 , 57.375], dtype=float32),\n",
       "   'to_rgb': True}},\n",
       " 'img': <tf.Tensor: shape=(1333, 1333, 3), dtype=float32, numpy=\n",
       " array([[[2.2489083, 2.4285715, 2.64     ],\n",
       "         [2.2489083, 2.4285715, 2.64     ],\n",
       "         [2.2489083, 2.4285715, 2.64     ],\n",
       "         ...,\n",
       "         [2.2489083, 2.4285715, 2.64     ],\n",
       "         [2.2489083, 2.4285715, 2.64     ],\n",
       "         [2.2489083, 2.4285715, 2.64     ]],\n",
       " \n",
       "        [[2.2489083, 2.4285715, 2.64     ],\n",
       "         [2.2489083, 2.4285715, 2.64     ],\n",
       "         [2.2489083, 2.4285715, 2.64     ],\n",
       "         ...,\n",
       "         [2.2489083, 2.4285715, 2.64     ],\n",
       "         [2.2489083, 2.4285715, 2.64     ],\n",
       "         [2.2489083, 2.4285715, 2.64     ]],\n",
       " \n",
       "        [[2.2489083, 2.4285715, 2.64     ],\n",
       "         [2.2489083, 2.4285715, 2.64     ],\n",
       "         [2.2489083, 2.4285715, 2.64     ],\n",
       "         ...,\n",
       "         [2.2489083, 2.4285715, 2.64     ],\n",
       "         [2.2489083, 2.4285715, 2.64     ],\n",
       "         [2.2489083, 2.4285715, 2.64     ]],\n",
       " \n",
       "        ...,\n",
       " \n",
       "        [[0.       , 0.       , 0.       ],\n",
       "         [0.       , 0.       , 0.       ],\n",
       "         [0.       , 0.       , 0.       ],\n",
       "         ...,\n",
       "         [0.       , 0.       , 0.       ],\n",
       "         [0.       , 0.       , 0.       ],\n",
       "         [0.       , 0.       , 0.       ]],\n",
       " \n",
       "        [[0.       , 0.       , 0.       ],\n",
       "         [0.       , 0.       , 0.       ],\n",
       "         [0.       , 0.       , 0.       ],\n",
       "         ...,\n",
       "         [0.       , 0.       , 0.       ],\n",
       "         [0.       , 0.       , 0.       ],\n",
       "         [0.       , 0.       , 0.       ]],\n",
       " \n",
       "        [[0.       , 0.       , 0.       ],\n",
       "         [0.       , 0.       , 0.       ],\n",
       "         [0.       , 0.       , 0.       ],\n",
       "         ...,\n",
       "         [0.       , 0.       , 0.       ],\n",
       "         [0.       , 0.       , 0.       ],\n",
       "         [0.       , 0.       , 0.       ]]], dtype=float32)>,\n",
       " 'gt_bboxes': <tf.Tensor: shape=(4, 4), dtype=float32, numpy=\n",
       " array([[304.4447  , 350.45837 , 749.27094 , 584.7292  ],\n",
       "        [ 46.155125, 304.33337 , 672.51935 , 624.9167  ],\n",
       "        [359.9517  , 275.58337 , 460.13495 , 350.4167  ],\n",
       "        [381.80035 , 256.66663 , 454.65714 , 320.4792  ]], dtype=float32)>}"
      ]
     },
     "execution_count": 133,
     "metadata": {},
     "output_type": "execute_result"
    }
   ],
   "source": [
    "coco[0]"
   ]
  },
  {
   "cell_type": "code",
   "execution_count": null,
   "metadata": {},
   "outputs": [],
   "source": []
  }
 ],
 "metadata": {
  "kernelspec": {
   "display_name": "Python 3",
   "language": "python",
   "name": "python3"
  },
  "language_info": {
   "codemirror_mode": {
    "name": "ipython",
    "version": 3
   },
   "file_extension": ".py",
   "mimetype": "text/x-python",
   "name": "python",
   "nbconvert_exporter": "python",
   "pygments_lexer": "ipython3",
   "version": "3.7.7"
  }
 },
 "nbformat": 4,
 "nbformat_minor": 4
}
