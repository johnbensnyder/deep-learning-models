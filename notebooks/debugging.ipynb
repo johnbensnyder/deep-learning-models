{
 "cells": [
  {
   "cell_type": "code",
   "execution_count": 1,
   "metadata": {},
   "outputs": [],
   "source": [
    "import sys\n",
    "import os\n",
    "import time\n",
    "sys.path.append('..')"
   ]
  },
  {
   "cell_type": "code",
   "execution_count": 3,
   "metadata": {},
   "outputs": [],
   "source": [
    "from awsdet.utils.misc.config import Config\n",
    "from awsdet.utils.logger import get_root_logger\n",
    "from awsdet.utils.runner.dist_utils import init_dist\n",
    "from awsdet.datasets.data_generator import DataGenerator\n",
    "from awsdet.datasets import build_dataset\n",
    "from awsdet.datasets.loader.build_loader import build_dataloader\n",
    "import tensorflow as tf\n",
    "import matplotlib.pyplot as plt\n",
    "\n",
    "from awsdet.datasets.data_generator import DataGenerator"
   ]
  },
  {
   "cell_type": "code",
   "execution_count": 4,
   "metadata": {},
   "outputs": [],
   "source": [
    "#config_path = '/workspace/shared_workspace/deep-learning-models/configs/rpn/rpn_r50_fpn_1x_coco.py'\n",
    "config_path = '/workspace/shared_workspace/deep-learning-models/configs/mask_rcnn/mask_rcnn_r50_fpn_1x_coco.py'\n",
    "cfg = Config.fromfile(config_path)\n",
    "timestamp = time.strftime('%Y%m%d_%H%M%S', time.localtime())\n",
    "cfg.work_dir = os.path.join('./work_dirs',\n",
    "                                os.path.splitext(os.path.basename(config_path))[0])\n",
    "log_file = os.path.join(cfg.work_dir, f'{timestamp}.log')"
   ]
  },
  {
   "cell_type": "code",
   "execution_count": 5,
   "metadata": {},
   "outputs": [],
   "source": [
    "init_dist()"
   ]
  },
  {
   "cell_type": "code",
   "execution_count": 6,
   "metadata": {},
   "outputs": [
    {
     "name": "stdout",
     "output_type": "stream",
     "text": [
      "loading annotations into memory...\n",
      "Done (t=20.56s)\n",
      "creating index...\n",
      "index created!\n"
     ]
    }
   ],
   "source": [
    "coco = build_dataset(cfg.data.train)"
   ]
  },
  {
   "cell_type": "code",
   "execution_count": 7,
   "metadata": {},
   "outputs": [],
   "source": [
    "#coco[0]['gt_masks'].to_tensor()"
   ]
  },
  {
   "cell_type": "code",
   "execution_count": 8,
   "metadata": {},
   "outputs": [],
   "source": [
    "dg = DataGenerator(coco)()"
   ]
  },
  {
   "cell_type": "code",
   "execution_count": 9,
   "metadata": {},
   "outputs": [
    {
     "name": "stdout",
     "output_type": "stream",
     "text": [
      "Starting new loop for GPU: 0\n"
     ]
    }
   ],
   "source": [
    "img, meta, gt_boxes, gt_labels, gt_masks = next(dg)"
   ]
  },
  {
   "cell_type": "code",
   "execution_count": 10,
   "metadata": {},
   "outputs": [],
   "source": [
    "train_tdf, train_size = build_dataloader(coco, 2)\n",
    "train_tdf_iter = iter(train_tdf.repeat())"
   ]
  },
  {
   "cell_type": "code",
   "execution_count": 14,
   "metadata": {},
   "outputs": [],
   "source": [
    "#%%timeit -r 10 -n 10\n",
    "imgs, img_metas, gt_bboxes, gt_labels, gt_masks = next(train_tdf_iter)"
   ]
  },
  {
   "cell_type": "code",
   "execution_count": 15,
   "metadata": {},
   "outputs": [
    {
     "data": {
      "text/plain": [
       "TensorShape([2, 1333, 1333, 3])"
      ]
     },
     "execution_count": 15,
     "metadata": {},
     "output_type": "execute_result"
    }
   ],
   "source": [
    "imgs.shape"
   ]
  },
  {
   "cell_type": "code",
   "execution_count": 11,
   "metadata": {},
   "outputs": [],
   "source": [
    "import matplotlib.patches as patches\n",
    "\n",
    "def get_original_image(img):\n",
    "    img = (img * \\\n",
    "       [58.395, 57.12, 57.375] + \\\n",
    "       [123.675, 116.28, 103.53])/255.\n",
    "    #img = img[:img_instance['img_metas']['img_shape'][0], :img_instance['img_metas']['img_shape'][1], :]\n",
    "    return img\n",
    "\n",
    "def show_box(img, bbox):\n",
    "    img = get_original_image(img)\n",
    "    fig, ax = plt.subplots(figsize=(10, 10))\n",
    "    ax.imshow(img)\n",
    "    y1 = bbox[1]\n",
    "    x1 = bbox[0]\n",
    "    h = bbox[3] - bbox[1]\n",
    "    w = bbox[2] - bbox[0]\n",
    "    rect = patches.Rectangle((y1,x1),h,w,linewidth=1,edgecolor='r',facecolor='none')\n",
    "    ax.add_patch(rect)\n",
    "    plt.show()"
   ]
  },
  {
   "cell_type": "code",
   "execution_count": 12,
   "metadata": {},
   "outputs": [],
   "source": [
    "#fig, ax = plt.subplots(figsize=(10, 10))\n",
    "#ax.imshow(get_original_image(imgs[1]))"
   ]
  },
  {
   "cell_type": "code",
   "execution_count": 13,
   "metadata": {},
   "outputs": [],
   "source": [
    "#fig, ax = plt.subplots(figsize=(10, 10))\n",
    "#ax.imshow(gt_masks[1][0])"
   ]
  },
  {
   "cell_type": "code",
   "execution_count": 14,
   "metadata": {},
   "outputs": [
    {
     "data": {
      "text/plain": [
       "<tf.Tensor: shape=(2, 6), dtype=int32, numpy=\n",
       "array([[15, 15, 24, 28, 24, -1],\n",
       "       [43, 45, 53, 42, 41, 60]], dtype=int32)>"
      ]
     },
     "execution_count": 14,
     "metadata": {},
     "output_type": "execute_result"
    }
   ],
   "source": [
    "gt_labels"
   ]
  },
  {
   "cell_type": "code",
   "execution_count": 15,
   "metadata": {},
   "outputs": [],
   "source": [
    "#logger = get_root_logger(log_file=log_file, log_level=cfg.log_level)"
   ]
  },
  {
   "cell_type": "code",
   "execution_count": 16,
   "metadata": {},
   "outputs": [
    {
     "data": {
      "text/plain": [
       "['img', 'gt_bboxes', 'gt_labels', 'gt_masks']"
      ]
     },
     "execution_count": 16,
     "metadata": {},
     "output_type": "execute_result"
    }
   ],
   "source": [
    "coco.pipeline.transforms[-1].keys"
   ]
  },
  {
   "cell_type": "code",
   "execution_count": 17,
   "metadata": {},
   "outputs": [],
   "source": [
    "#show_box(coco[0])"
   ]
  },
  {
   "cell_type": "code",
   "execution_count": 16,
   "metadata": {},
   "outputs": [],
   "source": [
    "from awsdet.models.builder import build_backbone, build_neck"
   ]
  },
  {
   "cell_type": "code",
   "execution_count": 17,
   "metadata": {},
   "outputs": [],
   "source": [
    "from awsdet.core.anchor.builder import build_anchor_generator\n",
    "from awsdet.core.bbox.builder import build_assigner"
   ]
  },
  {
   "cell_type": "code",
   "execution_count": 18,
   "metadata": {},
   "outputs": [],
   "source": [
    "#from awsdet.core.bbox.iou_calculators.iou2d_calculator import compute_overlaps\n",
    "#from awsdet.utils.misc.meta import trim_zeros, calc_img_shapes\n",
    "#from awsdet.core.bbox.assigners.assign_result"
   ]
  },
  {
   "cell_type": "code",
   "execution_count": 19,
   "metadata": {},
   "outputs": [],
   "source": [
    "backbone = build_backbone(cfg.model.backbone)\n",
    "neck = build_neck(cfg.model.neck)"
   ]
  },
  {
   "cell_type": "code",
   "execution_count": 22,
   "metadata": {},
   "outputs": [
    {
     "name": "stdout",
     "output_type": "stream",
     "text": [
      "280 ms ± 51.3 ms per loop (mean ± std. dev. of 7 runs, 10 loops each)\n"
     ]
    }
   ],
   "source": [
    "%%timeit\n",
    "imgs, img_metas, gt_bboxes, gt_labels, gt_masks = next(train_tdf_iter)\n",
    "C2, C3, C4, C5 = backbone(imgs)\n",
    "P2, P3, P4, P5, P6 = neck((C2, C3, C4, C5))"
   ]
  },
  {
   "cell_type": "code",
   "execution_count": 23,
   "metadata": {},
   "outputs": [],
   "source": [
    "anchor_generator = build_anchor_generator(cfg.model.rpn_head.anchor_generator)"
   ]
  },
  {
   "cell_type": "code",
   "execution_count": 24,
   "metadata": {},
   "outputs": [],
   "source": [
    "rpn_feature_maps = [P2, P3, P4, P5, P6]"
   ]
  },
  {
   "cell_type": "code",
   "execution_count": 25,
   "metadata": {},
   "outputs": [],
   "source": [
    "featmap_sizes = [tf.shape(i)[1:3] for i in rpn_feature_maps]\n",
    "num_imgs = len(img_metas)\n",
    "multi_level_anchors = anchor_generator.grid_anchors(featmap_sizes)\n",
    "anchor_list = [multi_level_anchors for _ in range(num_imgs)]\n",
    "valid_flags = [anchor_generator.valid_flags(featmap_sizes, i[3:5]) for i in img_metas]"
   ]
  },
  {
   "cell_type": "code",
   "execution_count": 26,
   "metadata": {},
   "outputs": [],
   "source": [
    "assigner_dict = {'type': 'MaxIoUAssigner',\n",
    "                 'pos_iou_thr': 0.7,\n",
    "                 'neg_iou_thr': 0.3}\n",
    "assigner = build_assigner(assigner_dict)"
   ]
  },
  {
   "cell_type": "code",
   "execution_count": 27,
   "metadata": {},
   "outputs": [],
   "source": [
    "assign_result = assigner.assign(anchor_list[0], gt_bboxes[0], valid_flags=valid_flags[0], gt_labels=gt_labels[0])"
   ]
  },
  {
   "cell_type": "code",
   "execution_count": 28,
   "metadata": {},
   "outputs": [
    {
     "data": {
      "text/plain": [
       "<tf.Tensor: shape=(2, 5), dtype=int32, numpy=\n",
       "array([[ 2,  2,  7,  2,  7],\n",
       "       [74, 74, -1, -1, -1]], dtype=int32)>"
      ]
     },
     "execution_count": 28,
     "metadata": {},
     "output_type": "execute_result"
    }
   ],
   "source": [
    "gt_labels"
   ]
  },
  {
   "cell_type": "code",
   "execution_count": 29,
   "metadata": {},
   "outputs": [],
   "source": [
    "pos_anchors = tf.squeeze(tf.gather(tf.concat(anchor_list[0], axis=0), tf.where(assign_result.gt_inds>0)))\n",
    "neg_anchors = tf.squeeze(tf.gather(tf.concat(anchor_list[0], axis=0), tf.where(assign_result.gt_inds==0)))"
   ]
  },
  {
   "cell_type": "code",
   "execution_count": 30,
   "metadata": {},
   "outputs": [],
   "source": [
    "#tf.gather(result.labels, tf.where(result.gt_inds>0))"
   ]
  },
  {
   "cell_type": "code",
   "execution_count": 31,
   "metadata": {},
   "outputs": [],
   "source": [
    "#show_box(imgs[0], pos_anchors[16])\n",
    "import tensorflow as tf\n",
    "from awsdet.utils.misc.meta import trim_zeros"
   ]
  },
  {
   "cell_type": "code",
   "execution_count": 32,
   "metadata": {},
   "outputs": [],
   "source": [
    "anchors = tf.concat(anchor_list[0], axis=0)\n",
    "gt_box, gt_bool = trim_zeros(gt_bboxes[0])\n",
    "gt_flags = tf.zeros(tf.shape(anchors)[0], dtype=tf.int8)\n",
    "bboxes = tf.concat([gt_box, anchors], axis=0)\n",
    "gt_label = tf.boolean_mask(gt_labels[0], gt_bool)"
   ]
  },
  {
   "cell_type": "code",
   "execution_count": 33,
   "metadata": {},
   "outputs": [],
   "source": [
    "self_inds = tf.range(\n",
    "            1, len(gt_label) + 1, dtype=tf.int32)"
   ]
  },
  {
   "cell_type": "code",
   "execution_count": 34,
   "metadata": {},
   "outputs": [
    {
     "data": {
      "text/plain": [
       "<tf.Tensor: shape=(5, 4), dtype=float32, numpy=\n",
       "array([[ 437.84964 ,    0.      ,  612.25134 ,  226.3053  ],\n",
       "       [ 459.95743 , 1105.3916  ,  528.3126  , 1166.3893  ],\n",
       "       [ 233.25014 ,   54.258667,  742.94073 , 1111.9185  ],\n",
       "       [ 470.52667 , 1134.1655  ,  551.8184  , 1192.7389  ],\n",
       "       [ 428.80893 ,    0.      ,  617.2843  ,  226.9953  ]],\n",
       "      dtype=float32)>"
      ]
     },
     "execution_count": 34,
     "metadata": {},
     "output_type": "execute_result"
    }
   ],
   "source": [
    "gt_box"
   ]
  },
  {
   "cell_type": "code",
   "execution_count": 35,
   "metadata": {},
   "outputs": [
    {
     "data": {
      "text/plain": [
       "<tf.Tensor: shape=(446118, 4), dtype=float32, numpy=\n",
       "array([[ -22.627417,  -11.313708,   22.627417,   11.313708],\n",
       "       [ -16.      ,  -16.      ,   16.      ,   16.      ],\n",
       "       [ -11.313708,  -22.627417,   11.313708,   22.627417],\n",
       "       ...,\n",
       "       [ 917.9613  , 1098.9807  , 1642.0387  , 1461.0193  ],\n",
       "       [1024.      , 1024.      , 1536.      , 1536.      ],\n",
       "       [1098.9807  ,  917.9613  , 1461.0193  , 1642.0387  ]],\n",
       "      dtype=float32)>"
      ]
     },
     "execution_count": 35,
     "metadata": {},
     "output_type": "execute_result"
    }
   ],
   "source": [
    "anchors"
   ]
  },
  {
   "cell_type": "code",
   "execution_count": 36,
   "metadata": {},
   "outputs": [
    {
     "data": {
      "text/plain": [
       "<tf.Tensor: shape=(13,), dtype=int32, numpy=array([26, 26, 10, 10,  1,  1, 29,  3,  3,  3, 10, 27, 10], dtype=int32)>"
      ]
     },
     "execution_count": 36,
     "metadata": {},
     "output_type": "execute_result"
    }
   ],
   "source": [
    "gt_label + 1"
   ]
  },
  {
   "cell_type": "code",
   "execution_count": 37,
   "metadata": {},
   "outputs": [
    {
     "data": {
      "text/plain": [
       "UniqueWithCounts(y=<tf.Tensor: shape=(15,), dtype=int32, numpy=\n",
       "array([ 0, -1, 11, 13,  9,  4,  3,  8,  2, 10,  7,  1, 12,  6,  5],\n",
       "      dtype=int32)>, idx=<tf.Tensor: shape=(446118,), dtype=int32, numpy=array([0, 0, 0, ..., 1, 1, 1], dtype=int32)>, count=<tf.Tensor: shape=(15,), dtype=int32, numpy=\n",
       "array([238029, 208065,      1,      1,      1,      4,      1,      2,\n",
       "            1,      2,      4,      1,      1,      4,      1],\n",
       "      dtype=int32)>)"
      ]
     },
     "execution_count": 37,
     "metadata": {},
     "output_type": "execute_result"
    }
   ],
   "source": [
    "tf.unique_with_counts(assign_result.gt_inds)"
   ]
  },
  {
   "cell_type": "code",
   "execution_count": 39,
   "metadata": {},
   "outputs": [],
   "source": [
    "assign_result.add_gt_(gt_label)"
   ]
  },
  {
   "cell_type": "code",
   "execution_count": null,
   "metadata": {},
   "outputs": [],
   "source": [
    "assign_result.gt_inds"
   ]
  },
  {
   "cell_type": "code",
   "execution_count": null,
   "metadata": {},
   "outputs": [],
   "source": [
    "assign_result.labels"
   ]
  },
  {
   "cell_type": "code",
   "execution_count": 35,
   "metadata": {},
   "outputs": [],
   "source": [
    "# base dense head\n",
    "from abc import ABCMeta, abstractmethod\n",
    "import tensorflow as tf\n",
    "\n",
    "class BaseDenseHead(tf.keras.Model, metaclass=ABCMeta):\n",
    "    \n",
    "    def __init__(self):\n",
    "        super(BaseDenseHead, self).__init__()\n",
    "    \n",
    "    @abstractmethod\n",
    "    def loss(self, **kwargs):\n",
    "        \"\"\"Coompute losses of the head\"\"\"\n",
    "        pass\n",
    "    \n",
    "    @abstractmethod\n",
    "    def get_bboxes(self, **kwargs):\n",
    "        \"\"\"Tranform network output for a batch into bbox predictions\"\"\"\n",
    "        pass\n",
    "    \n",
    "    def forward_train(self, \n",
    "                         x, \n",
    "                         img_metas, \n",
    "                         gt_bboxes, \n",
    "                         gt_labels=None,\n",
    "                         gt_bboxes_ignore=None,\n",
    "                         proposal_cfg=None,\n",
    "                         **kwargs):\n",
    "        \"\"\"\n",
    "        Args:\n",
    "            x (list[Tensor]): Features from FPN.\n",
    "            img_metas (list[dict]): Meta information of each image, e.g,\n",
    "                image size, scaling factor, etc.\n",
    "            gt_bboxes (Tensor): Ground truth bboxes of teh image,\n",
    "                shape (num_gts, 4).\n",
    "            gt_labels (Tensor): Ground truth labels of each box,\n",
    "                shape (num_gts,).\n",
    "            gt_bboxes_ignore (Tensor): Ground truth bboxes to be\n",
    "                ignored, shape (num_ignored_gts, 4).\n",
    "            proposal_cfg (mmcv.Config): Test / postprocessing configuration,\n",
    "                if None, test_cfg would be used\n",
    "        Returns:\n",
    "            tuple:\n",
    "                losses: (dict[str, Tensor]): A dictionary of loss components.\n",
    "                proposal_list (list[Tensor]): Proposals of each image.\n",
    "        \"\"\"\n",
    "        outs = self(x)\n",
    "        if gt_labels is None:\n",
    "            loss_inputs = outs + (gt_bboxes, img_metas)\n",
    "        else:\n",
    "            loss_inputs = outs + (gt_bboxes, gt_labels, img_metas)\n",
    "        losses = self.loss(*loss_inputs, gt_bboxes_ignore=gt_bboxes_ignore)\n",
    "        if proposal_cfg is None:\n",
    "            return losses\n",
    "        else:\n",
    "            proposal_list = self.get_bboxes(*outs, img_metas, cfg=proposal_cfg)\n",
    "            return losses, proposal_list"
   ]
  },
  {
   "cell_type": "code",
   "execution_count": 37,
   "metadata": {},
   "outputs": [
    {
     "data": {
      "text/plain": [
       "<tf.Tensor: shape=(50,), dtype=int32, numpy=\n",
       "array([62, 75, 11, 77,  0, 20,  1, 76, 27, 36, 55, 78, 59, 31, 53, 19, 63,\n",
       "       52,  8, 50, 42, 10, 74, 39, 38, 17, 29, 16, 30, 60, 46, 34, 37, 21,\n",
       "       28, 40, 23, 44, 25,  7, 73, 58, 48,  6,  5, 24, 66, 51, 64, 22],\n",
       "      dtype=int32)>"
      ]
     },
     "execution_count": 37,
     "metadata": {},
     "output_type": "execute_result"
    }
   ],
   "source": [
    "tf.random.shuffle(tf.range(80))[:50]"
   ]
  },
  {
   "cell_type": "code",
   "execution_count": null,
   "metadata": {},
   "outputs": [],
   "source": []
  }
 ],
 "metadata": {
  "kernelspec": {
   "display_name": "Python 3",
   "language": "python",
   "name": "python3"
  },
  "language_info": {
   "codemirror_mode": {
    "name": "ipython",
    "version": 3
   },
   "file_extension": ".py",
   "mimetype": "text/x-python",
   "name": "python",
   "nbconvert_exporter": "python",
   "pygments_lexer": "ipython3",
   "version": "3.6.9"
  }
 },
 "nbformat": 4,
 "nbformat_minor": 4
}
