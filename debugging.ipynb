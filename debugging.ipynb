{
 "cells": [
  {
   "cell_type": "code",
   "execution_count": 1,
   "metadata": {},
   "outputs": [],
   "source": [
    "import tarfile\n",
    "import os\n",
    "import pathlib\n",
    "import numpy as np\n",
    "from time import time\n",
    "# temp\n",
    "import sys\n",
    "sys.path.append('/workspace/shared_workspace/deep-learning-models/models/vision/detection')\n",
    "\n",
    "import tensorflow_addons as tfa\n",
    "import tensorflow as tf\n",
    "import horovod.tensorflow as hvd\n",
    "\n",
    "from awsdet.models.detectors.mask_rcnn import MaskRCNN\n",
    "from awsdet.datasets import DATASETS, build_dataloader\n",
    "from awsdet.datasets import build_dataset, build_dataloader\n",
    "from awsdet.models import build_detector\n",
    "from awsdet.utils.schedulers import schedulers\n",
    "from awsdet.core import CocoDistEvalmAPHook, CocoDistEvalRecallHook\n",
    "from awsdet.utils.runner.hooks.logger import tensorboard, text\n",
    "from awsdet.utils.runner.hooks import checkpoint, iter_timer, visualizer\n",
    "from awsdet.apis.train import parse_losses, batch_processor, build_optimizer, get_root_logger\n",
    "from awsdet.utils.misc import Config\n",
    "import horovod.tensorflow as hvd\n",
    "from awsdet.utils.runner import sagemaker_runner\n",
    "from awsdet.utils.schedulers.schedulers import WarmupScheduler\n",
    "import argparse"
   ]
  },
  {
   "cell_type": "code",
   "execution_count": 2,
   "metadata": {},
   "outputs": [],
   "source": [
    "fp16 = True\n",
    "hvd.init()\n",
    "#tf.config.experimental_run_functions_eagerly(True)\n",
    "tf.config.optimizer.set_experimental_options({\"auto_mixed_precision\": fp16})\n",
    "gpus = tf.config.experimental.list_physical_devices('GPU')\n",
    "for gpu in gpus:\n",
    "    tf.config.experimental.set_memory_growth(gpu, True)\n",
    "if gpus:\n",
    "    tf.config.experimental.set_visible_devices(gpus[hvd.local_rank()], 'GPU')\n"
   ]
  },
  {
   "cell_type": "code",
   "execution_count": 3,
   "metadata": {},
   "outputs": [],
   "source": [
    "cfg=Config.fromfile('/workspace/shared_workspace/deep-learning-models/models/vision/detection/configs/docker_mask_rcnn.py')"
   ]
  },
  {
   "cell_type": "code",
   "execution_count": 4,
   "metadata": {},
   "outputs": [
    {
     "name": "stdout",
     "output_type": "stream",
     "text": [
      "loading annotations into memory...\n",
      "Done (t=15.34s)\n",
      "creating index...\n",
      "index created!\n"
     ]
    }
   ],
   "source": [
    "cfg.batch_size_per_device = 4\n",
    "cfg.workers_per_gpu = 1\n",
    "cfg.global_batch_size = cfg.batch_size_per_device * hvd.size()\n",
    "cfg.steps_per_epoch = cfg.coco_images // cfg.global_batch_size\n",
    "datasets = build_dataset(cfg.data.train)\n",
    "tf_datasets = [build_dataloader(datasets,\n",
    "                         cfg.batch_size_per_device,\n",
    "                         cfg.workers_per_gpu,\n",
    "                         num_gpus=hvd.size(),\n",
    "                         dist=True)]"
   ]
  },
  {
   "cell_type": "code",
   "execution_count": 5,
   "metadata": {},
   "outputs": [],
   "source": [
    "cfg.schedule = '1x'\n",
    "model = build_detector(cfg.model,\n",
    "                       train_cfg=cfg.train_cfg,\n",
    "                       test_cfg=cfg.test_cfg)"
   ]
  },
  {
   "cell_type": "code",
   "execution_count": 6,
   "metadata": {},
   "outputs": [
    {
     "name": "stdout",
     "output_type": "stream",
     "text": [
      "Starting new loop for GPU: 0\n"
     ]
    }
   ],
   "source": [
    "_ = model(next(iter(tf_datasets[0][0])), training=True)"
   ]
  },
  {
   "cell_type": "code",
   "execution_count": 7,
   "metadata": {},
   "outputs": [
    {
     "data": {
      "text/plain": [
       "<tensorflow.python.training.tracking.util.CheckpointLoadStatus at 0x7fe74a18b080>"
      ]
     },
     "execution_count": 7,
     "metadata": {},
     "output_type": "execute_result"
    }
   ],
   "source": [
    "model.load_weights('/workspace/shared_workspace/weights/005/mask_rcnn')"
   ]
  },
  {
   "cell_type": "code",
   "execution_count": 8,
   "metadata": {},
   "outputs": [],
   "source": [
    "train_tdf = iter(tf_datasets[0][0])"
   ]
  },
  {
   "cell_type": "code",
   "execution_count": 9,
   "metadata": {},
   "outputs": [
    {
     "name": "stdout",
     "output_type": "stream",
     "text": [
      "Starting new loop for GPU: 0\n"
     ]
    }
   ],
   "source": [
    "img, meta, gt_bbox, gt_label, gt_mask = next(train_tdf)"
   ]
  },
  {
   "cell_type": "code",
   "execution_count": 10,
   "metadata": {},
   "outputs": [
    {
     "name": "stdout",
     "output_type": "stream",
     "text": [
      "WARNING:tensorflow:5 out of the last 5 calls to <function ProposalTarget._build_single_target at 0x7fe5e5b169d8> triggered tf.function retracing. Tracing is expensive and the excessive number of tracings is likely due to passing python objects instead of tensors. Also, tf.function has experimental_relax_shapes=True option that relaxes argument shapes that can avoid unnecessary retracing. Please refer to https://www.tensorflow.org/tutorials/customization/performance#python_or_tensor_args and https://www.tensorflow.org/api_docs/python/tf/function for more details.\n",
      "WARNING:tensorflow:6 out of the last 6 calls to <function ProposalTarget._build_single_target at 0x7fe5e5b169d8> triggered tf.function retracing. Tracing is expensive and the excessive number of tracings is likely due to passing python objects instead of tensors. Also, tf.function has experimental_relax_shapes=True option that relaxes argument shapes that can avoid unnecessary retracing. Please refer to https://www.tensorflow.org/tutorials/customization/performance#python_or_tensor_args and https://www.tensorflow.org/api_docs/python/tf/function for more details.\n",
      "WARNING:tensorflow:7 out of the last 7 calls to <function ProposalTarget._build_single_target at 0x7fe5e5b169d8> triggered tf.function retracing. Tracing is expensive and the excessive number of tracings is likely due to passing python objects instead of tensors. Also, tf.function has experimental_relax_shapes=True option that relaxes argument shapes that can avoid unnecessary retracing. Please refer to https://www.tensorflow.org/tutorials/customization/performance#python_or_tensor_args and https://www.tensorflow.org/api_docs/python/tf/function for more details.\n",
      "WARNING:tensorflow:8 out of the last 8 calls to <function ProposalTarget._build_single_target at 0x7fe5e5b169d8> triggered tf.function retracing. Tracing is expensive and the excessive number of tracings is likely due to passing python objects instead of tensors. Also, tf.function has experimental_relax_shapes=True option that relaxes argument shapes that can avoid unnecessary retracing. Please refer to https://www.tensorflow.org/tutorials/customization/performance#python_or_tensor_args and https://www.tensorflow.org/api_docs/python/tf/function for more details.\n"
     ]
    }
   ],
   "source": [
    "loss = model((img, meta, gt_bbox, gt_label, gt_mask), training=True)"
   ]
  },
  {
   "cell_type": "code",
   "execution_count": 11,
   "metadata": {},
   "outputs": [],
   "source": [
    "predictions = model((img, meta), training=False)"
   ]
  },
  {
   "cell_type": "code",
   "execution_count": 18,
   "metadata": {},
   "outputs": [
    {
     "data": {
      "text/plain": [
       "<tf.Tensor: shape=(14, 14), dtype=float32, numpy=\n",
       "array([[0., 0., 0., 0., 0., 0., 0., 0., 0., 0., 0., 0., 0., 0.],\n",
       "       [0., 0., 0., 0., 0., 0., 0., 0., 0., 0., 0., 0., 0., 0.],\n",
       "       [0., 0., 0., 0., 0., 0., 0., 0., 0., 0., 0., 0., 0., 0.],\n",
       "       [0., 0., 0., 0., 0., 0., 0., 0., 0., 0., 0., 0., 0., 0.],\n",
       "       [0., 0., 0., 0., 0., 0., 0., 0., 0., 0., 0., 0., 0., 0.],\n",
       "       [0., 0., 0., 0., 0., 0., 0., 0., 0., 0., 0., 0., 0., 0.],\n",
       "       [0., 0., 0., 0., 0., 0., 0., 0., 0., 0., 0., 0., 0., 0.],\n",
       "       [0., 0., 0., 0., 0., 0., 0., 0., 0., 0., 0., 0., 0., 0.],\n",
       "       [0., 0., 0., 0., 0., 0., 0., 0., 0., 0., 0., 0., 0., 0.],\n",
       "       [0., 0., 0., 0., 0., 0., 0., 0., 0., 0., 0., 0., 0., 0.],\n",
       "       [0., 0., 0., 0., 0., 0., 0., 0., 0., 0., 0., 0., 0., 0.],\n",
       "       [0., 0., 0., 0., 0., 0., 0., 0., 0., 0., 0., 0., 0., 0.],\n",
       "       [0., 0., 0., 0., 0., 0., 0., 0., 0., 0., 0., 0., 0., 0.],\n",
       "       [0., 0., 0., 0., 0., 0., 0., 0., 0., 0., 0., 0., 0., 0.]],\n",
       "      dtype=float32)>"
      ]
     },
     "execution_count": 18,
     "metadata": {},
     "output_type": "execute_result"
    }
   ],
   "source": [
    "predictions['masks'][3,:,:,1]"
   ]
  },
  {
   "cell_type": "code",
   "execution_count": 19,
   "metadata": {},
   "outputs": [
    {
     "data": {
      "text/plain": [
       "{'rpn_class_loss': <tf.Tensor: shape=(), dtype=float32, numpy=0.07712321>,\n",
       " 'rpn_bbox_loss': <tf.Tensor: shape=(), dtype=float32, numpy=0.109755665>,\n",
       " 'rcnn_class_loss': <tf.Tensor: shape=(), dtype=float32, numpy=1.0039341>,\n",
       " 'rcnn_bbox_loss': <tf.Tensor: shape=(), dtype=float32, numpy=0.28156236>,\n",
       " 'mask_loss': <tf.Tensor: shape=(), dtype=float32, numpy=0.37044007>}"
      ]
     },
     "execution_count": 19,
     "metadata": {},
     "output_type": "execute_result"
    }
   ],
   "source": [
    "loss"
   ]
  },
  {
   "cell_type": "code",
   "execution_count": null,
   "metadata": {},
   "outputs": [],
   "source": []
  }
 ],
 "metadata": {
  "kernelspec": {
   "display_name": "Python 3",
   "language": "python",
   "name": "python3"
  },
  "language_info": {
   "codemirror_mode": {
    "name": "ipython",
    "version": 3
   },
   "file_extension": ".py",
   "mimetype": "text/x-python",
   "name": "python",
   "nbconvert_exporter": "python",
   "pygments_lexer": "ipython3",
   "version": "3.7.7"
  }
 },
 "nbformat": 4,
 "nbformat_minor": 4
}
